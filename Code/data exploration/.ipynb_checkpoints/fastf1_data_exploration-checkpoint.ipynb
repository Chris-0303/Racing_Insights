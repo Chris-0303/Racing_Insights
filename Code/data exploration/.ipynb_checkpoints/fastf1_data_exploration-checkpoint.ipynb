{
 "cells": [
  {
   "cell_type": "code",
   "execution_count": 1,
   "id": "initial_id",
   "metadata": {
    "ExecuteTime": {
     "end_time": "2025-04-03T11:35:36.000339Z",
     "start_time": "2025-04-03T11:35:34.647604Z"
    },
    "collapsed": true
   },
   "outputs": [],
   "source": [
    "import fastf1\n",
    "import pandas as pd\n",
    "from datetime import date"
   ]
  },
  {
   "cell_type": "code",
   "execution_count": 2,
   "id": "e47f1afdbc97f1bc",
   "metadata": {
    "ExecuteTime": {
     "end_time": "2025-04-03T11:35:36.359269Z",
     "start_time": "2025-04-03T11:35:36.028363Z"
    }
   },
   "outputs": [
    {
     "name": "stderr",
     "output_type": "stream",
     "text": [
      "req         WARNING \tDEFAULT CACHE ENABLED! (197.19 MB) C:\\Users\\chris\\AppData\\Local\\Temp\\fastf1\n"
     ]
    },
    {
     "data": {
      "text/html": [
       "<div>\n",
       "<style scoped>\n",
       "    .dataframe tbody tr th:only-of-type {\n",
       "        vertical-align: middle;\n",
       "    }\n",
       "\n",
       "    .dataframe tbody tr th {\n",
       "        vertical-align: top;\n",
       "    }\n",
       "\n",
       "    .dataframe thead th {\n",
       "        text-align: right;\n",
       "    }\n",
       "</style>\n",
       "<table border=\"1\" class=\"dataframe\">\n",
       "  <thead>\n",
       "    <tr style=\"text-align: right;\">\n",
       "      <th></th>\n",
       "      <th>RoundNumber</th>\n",
       "      <th>Country</th>\n",
       "      <th>Location</th>\n",
       "      <th>OfficialEventName</th>\n",
       "      <th>EventDate</th>\n",
       "      <th>EventName</th>\n",
       "      <th>EventFormat</th>\n",
       "      <th>Session1</th>\n",
       "      <th>Session1Date</th>\n",
       "      <th>Session1DateUtc</th>\n",
       "      <th>...</th>\n",
       "      <th>Session3</th>\n",
       "      <th>Session3Date</th>\n",
       "      <th>Session3DateUtc</th>\n",
       "      <th>Session4</th>\n",
       "      <th>Session4Date</th>\n",
       "      <th>Session4DateUtc</th>\n",
       "      <th>Session5</th>\n",
       "      <th>Session5Date</th>\n",
       "      <th>Session5DateUtc</th>\n",
       "      <th>F1ApiSupport</th>\n",
       "    </tr>\n",
       "  </thead>\n",
       "  <tbody>\n",
       "    <tr>\n",
       "      <th>1</th>\n",
       "      <td>1</td>\n",
       "      <td>Bahrain</td>\n",
       "      <td>Sakhir</td>\n",
       "      <td>FORMULA 1 GULF AIR BAHRAIN GRAND PRIX 2024</td>\n",
       "      <td>2024-03-02</td>\n",
       "      <td>Bahrain Grand Prix</td>\n",
       "      <td>conventional</td>\n",
       "      <td>Practice 1</td>\n",
       "      <td>2024-02-29 14:30:00+03:00</td>\n",
       "      <td>2024-02-29 11:30:00</td>\n",
       "      <td>...</td>\n",
       "      <td>Practice 3</td>\n",
       "      <td>2024-03-01 15:30:00+03:00</td>\n",
       "      <td>2024-03-01 12:30:00</td>\n",
       "      <td>Qualifying</td>\n",
       "      <td>2024-03-01 19:00:00+03:00</td>\n",
       "      <td>2024-03-01 16:00:00</td>\n",
       "      <td>Race</td>\n",
       "      <td>2024-03-02 18:00:00+03:00</td>\n",
       "      <td>2024-03-02 15:00:00</td>\n",
       "      <td>True</td>\n",
       "    </tr>\n",
       "    <tr>\n",
       "      <th>2</th>\n",
       "      <td>2</td>\n",
       "      <td>Saudi Arabia</td>\n",
       "      <td>Jeddah</td>\n",
       "      <td>FORMULA 1 STC SAUDI ARABIAN GRAND PRIX 2024</td>\n",
       "      <td>2024-03-09</td>\n",
       "      <td>Saudi Arabian Grand Prix</td>\n",
       "      <td>conventional</td>\n",
       "      <td>Practice 1</td>\n",
       "      <td>2024-03-07 16:30:00+03:00</td>\n",
       "      <td>2024-03-07 13:30:00</td>\n",
       "      <td>...</td>\n",
       "      <td>Practice 3</td>\n",
       "      <td>2024-03-08 16:30:00+03:00</td>\n",
       "      <td>2024-03-08 13:30:00</td>\n",
       "      <td>Qualifying</td>\n",
       "      <td>2024-03-08 20:00:00+03:00</td>\n",
       "      <td>2024-03-08 17:00:00</td>\n",
       "      <td>Race</td>\n",
       "      <td>2024-03-09 20:00:00+03:00</td>\n",
       "      <td>2024-03-09 17:00:00</td>\n",
       "      <td>True</td>\n",
       "    </tr>\n",
       "    <tr>\n",
       "      <th>3</th>\n",
       "      <td>3</td>\n",
       "      <td>Australia</td>\n",
       "      <td>Melbourne</td>\n",
       "      <td>FORMULA 1 ROLEX AUSTRALIAN GRAND PRIX 2024</td>\n",
       "      <td>2024-03-24</td>\n",
       "      <td>Australian Grand Prix</td>\n",
       "      <td>conventional</td>\n",
       "      <td>Practice 1</td>\n",
       "      <td>2024-03-22 12:30:00+11:00</td>\n",
       "      <td>2024-03-22 01:30:00</td>\n",
       "      <td>...</td>\n",
       "      <td>Practice 3</td>\n",
       "      <td>2024-03-23 12:30:00+11:00</td>\n",
       "      <td>2024-03-23 01:30:00</td>\n",
       "      <td>Qualifying</td>\n",
       "      <td>2024-03-23 16:00:00+11:00</td>\n",
       "      <td>2024-03-23 05:00:00</td>\n",
       "      <td>Race</td>\n",
       "      <td>2024-03-24 15:00:00+11:00</td>\n",
       "      <td>2024-03-24 04:00:00</td>\n",
       "      <td>True</td>\n",
       "    </tr>\n",
       "    <tr>\n",
       "      <th>4</th>\n",
       "      <td>4</td>\n",
       "      <td>Japan</td>\n",
       "      <td>Suzuka</td>\n",
       "      <td>FORMULA 1 MSC CRUISES JAPANESE GRAND PRIX 2024</td>\n",
       "      <td>2024-04-07</td>\n",
       "      <td>Japanese Grand Prix</td>\n",
       "      <td>conventional</td>\n",
       "      <td>Practice 1</td>\n",
       "      <td>2024-04-05 11:30:00+09:00</td>\n",
       "      <td>2024-04-05 02:30:00</td>\n",
       "      <td>...</td>\n",
       "      <td>Practice 3</td>\n",
       "      <td>2024-04-06 11:30:00+09:00</td>\n",
       "      <td>2024-04-06 02:30:00</td>\n",
       "      <td>Qualifying</td>\n",
       "      <td>2024-04-06 15:00:00+09:00</td>\n",
       "      <td>2024-04-06 06:00:00</td>\n",
       "      <td>Race</td>\n",
       "      <td>2024-04-07 14:00:00+09:00</td>\n",
       "      <td>2024-04-07 05:00:00</td>\n",
       "      <td>True</td>\n",
       "    </tr>\n",
       "    <tr>\n",
       "      <th>5</th>\n",
       "      <td>5</td>\n",
       "      <td>China</td>\n",
       "      <td>Shanghai</td>\n",
       "      <td>FORMULA 1 LENOVO CHINESE GRAND PRIX 2024</td>\n",
       "      <td>2024-04-21</td>\n",
       "      <td>Chinese Grand Prix</td>\n",
       "      <td>sprint_qualifying</td>\n",
       "      <td>Practice 1</td>\n",
       "      <td>2024-04-19 11:30:00+08:00</td>\n",
       "      <td>2024-04-19 03:30:00</td>\n",
       "      <td>...</td>\n",
       "      <td>Sprint</td>\n",
       "      <td>2024-04-20 11:00:00+08:00</td>\n",
       "      <td>2024-04-20 03:00:00</td>\n",
       "      <td>Qualifying</td>\n",
       "      <td>2024-04-20 15:00:00+08:00</td>\n",
       "      <td>2024-04-20 07:00:00</td>\n",
       "      <td>Race</td>\n",
       "      <td>2024-04-21 15:00:00+08:00</td>\n",
       "      <td>2024-04-21 07:00:00</td>\n",
       "      <td>True</td>\n",
       "    </tr>\n",
       "  </tbody>\n",
       "</table>\n",
       "<p>5 rows × 23 columns</p>\n",
       "</div>"
      ],
      "text/plain": [
       "   RoundNumber       Country   Location  \\\n",
       "1            1       Bahrain     Sakhir   \n",
       "2            2  Saudi Arabia     Jeddah   \n",
       "3            3     Australia  Melbourne   \n",
       "4            4         Japan     Suzuka   \n",
       "5            5         China   Shanghai   \n",
       "\n",
       "                                OfficialEventName  EventDate  \\\n",
       "1      FORMULA 1 GULF AIR BAHRAIN GRAND PRIX 2024 2024-03-02   \n",
       "2     FORMULA 1 STC SAUDI ARABIAN GRAND PRIX 2024 2024-03-09   \n",
       "3      FORMULA 1 ROLEX AUSTRALIAN GRAND PRIX 2024 2024-03-24   \n",
       "4  FORMULA 1 MSC CRUISES JAPANESE GRAND PRIX 2024 2024-04-07   \n",
       "5        FORMULA 1 LENOVO CHINESE GRAND PRIX 2024 2024-04-21   \n",
       "\n",
       "                  EventName        EventFormat    Session1  \\\n",
       "1        Bahrain Grand Prix       conventional  Practice 1   \n",
       "2  Saudi Arabian Grand Prix       conventional  Practice 1   \n",
       "3     Australian Grand Prix       conventional  Practice 1   \n",
       "4       Japanese Grand Prix       conventional  Practice 1   \n",
       "5        Chinese Grand Prix  sprint_qualifying  Practice 1   \n",
       "\n",
       "                Session1Date     Session1DateUtc  ...    Session3  \\\n",
       "1  2024-02-29 14:30:00+03:00 2024-02-29 11:30:00  ...  Practice 3   \n",
       "2  2024-03-07 16:30:00+03:00 2024-03-07 13:30:00  ...  Practice 3   \n",
       "3  2024-03-22 12:30:00+11:00 2024-03-22 01:30:00  ...  Practice 3   \n",
       "4  2024-04-05 11:30:00+09:00 2024-04-05 02:30:00  ...  Practice 3   \n",
       "5  2024-04-19 11:30:00+08:00 2024-04-19 03:30:00  ...      Sprint   \n",
       "\n",
       "                Session3Date     Session3DateUtc    Session4  \\\n",
       "1  2024-03-01 15:30:00+03:00 2024-03-01 12:30:00  Qualifying   \n",
       "2  2024-03-08 16:30:00+03:00 2024-03-08 13:30:00  Qualifying   \n",
       "3  2024-03-23 12:30:00+11:00 2024-03-23 01:30:00  Qualifying   \n",
       "4  2024-04-06 11:30:00+09:00 2024-04-06 02:30:00  Qualifying   \n",
       "5  2024-04-20 11:00:00+08:00 2024-04-20 03:00:00  Qualifying   \n",
       "\n",
       "                Session4Date     Session4DateUtc Session5  \\\n",
       "1  2024-03-01 19:00:00+03:00 2024-03-01 16:00:00     Race   \n",
       "2  2024-03-08 20:00:00+03:00 2024-03-08 17:00:00     Race   \n",
       "3  2024-03-23 16:00:00+11:00 2024-03-23 05:00:00     Race   \n",
       "4  2024-04-06 15:00:00+09:00 2024-04-06 06:00:00     Race   \n",
       "5  2024-04-20 15:00:00+08:00 2024-04-20 07:00:00     Race   \n",
       "\n",
       "                Session5Date     Session5DateUtc F1ApiSupport  \n",
       "1  2024-03-02 18:00:00+03:00 2024-03-02 15:00:00         True  \n",
       "2  2024-03-09 20:00:00+03:00 2024-03-09 17:00:00         True  \n",
       "3  2024-03-24 15:00:00+11:00 2024-03-24 04:00:00         True  \n",
       "4  2024-04-07 14:00:00+09:00 2024-04-07 05:00:00         True  \n",
       "5  2024-04-21 15:00:00+08:00 2024-04-21 07:00:00         True  \n",
       "\n",
       "[5 rows x 23 columns]"
      ]
     },
     "execution_count": 2,
     "metadata": {},
     "output_type": "execute_result"
    }
   ],
   "source": [
    "#load event calendar for 2024 without testing\n",
    "calendar = fastf1.get_event_schedule(2024, include_testing=False)\n",
    "calendar.head()"
   ]
  },
  {
   "cell_type": "code",
   "execution_count": 3,
   "id": "61fd607dddbcf812",
   "metadata": {
    "ExecuteTime": {
     "end_time": "2025-04-02T15:08:48.082898Z",
     "start_time": "2025-04-02T15:08:48.072807Z"
    }
   },
   "outputs": [
    {
     "data": {
      "text/plain": [
       "Index(['RoundNumber', 'Country', 'Location', 'OfficialEventName', 'EventDate',\n",
       "       'EventName', 'EventFormat', 'Session1', 'Session1Date',\n",
       "       'Session1DateUtc', 'Session2', 'Session2Date', 'Session2DateUtc',\n",
       "       'Session3', 'Session3Date', 'Session3DateUtc', 'Session4',\n",
       "       'Session4Date', 'Session4DateUtc', 'Session5', 'Session5Date',\n",
       "       'Session5DateUtc', 'F1ApiSupport'],\n",
       "      dtype='object')"
      ]
     },
     "execution_count": 3,
     "metadata": {},
     "output_type": "execute_result"
    }
   ],
   "source": [
    "calendar.columns"
   ]
  },
  {
   "cell_type": "code",
   "execution_count": 11,
   "id": "b4e371b089be5463",
   "metadata": {
    "ExecuteTime": {
     "end_time": "2025-03-23T10:31:24.269759Z",
     "start_time": "2025-03-23T10:31:24.262409Z"
    }
   },
   "outputs": [
    {
     "data": {
      "text/plain": [
       "(24, 23)"
      ]
     },
     "execution_count": 11,
     "metadata": {},
     "output_type": "execute_result"
    }
   ],
   "source": [
    "calendar.shape #nrows, ncols"
   ]
  },
  {
   "cell_type": "code",
   "execution_count": 12,
   "id": "5bd03c8a1711137c",
   "metadata": {
    "ExecuteTime": {
     "end_time": "2025-03-23T10:32:08.723422Z",
     "start_time": "2025-03-23T10:32:08.697941Z"
    }
   },
   "outputs": [
    {
     "name": "stdout",
     "output_type": "stream",
     "text": [
      "<class 'fastf1.events.EventSchedule'>\n",
      "Index: 24 entries, 1 to 24\n",
      "Data columns (total 23 columns):\n",
      " #   Column             Non-Null Count  Dtype         \n",
      "---  ------             --------------  -----         \n",
      " 0   RoundNumber        24 non-null     int32         \n",
      " 1   Country            24 non-null     object        \n",
      " 2   Location           24 non-null     object        \n",
      " 3   OfficialEventName  24 non-null     object        \n",
      " 4   EventDate          24 non-null     datetime64[ns]\n",
      " 5   EventName          24 non-null     object        \n",
      " 6   EventFormat        24 non-null     object        \n",
      " 7   Session1           24 non-null     object        \n",
      " 8   Session1Date       24 non-null     object        \n",
      " 9   Session1DateUtc    24 non-null     datetime64[ns]\n",
      " 10  Session2           24 non-null     object        \n",
      " 11  Session2Date       24 non-null     object        \n",
      " 12  Session2DateUtc    24 non-null     datetime64[ns]\n",
      " 13  Session3           24 non-null     object        \n",
      " 14  Session3Date       24 non-null     object        \n",
      " 15  Session3DateUtc    24 non-null     datetime64[ns]\n",
      " 16  Session4           24 non-null     object        \n",
      " 17  Session4Date       24 non-null     object        \n",
      " 18  Session4DateUtc    24 non-null     datetime64[ns]\n",
      " 19  Session5           24 non-null     object        \n",
      " 20  Session5Date       24 non-null     object        \n",
      " 21  Session5DateUtc    24 non-null     datetime64[ns]\n",
      " 22  F1ApiSupport       24 non-null     bool          \n",
      "dtypes: bool(1), datetime64[ns](6), int32(1), object(15)\n",
      "memory usage: 4.8+ KB\n"
     ]
    }
   ],
   "source": [
    "calendar.info()"
   ]
  },
  {
   "cell_type": "code",
   "execution_count": 14,
   "id": "8fa6506100f3725f",
   "metadata": {
    "ExecuteTime": {
     "end_time": "2025-03-23T10:35:39.315698Z",
     "start_time": "2025-03-23T10:35:39.304692Z"
    }
   },
   "outputs": [
    {
     "data": {
      "text/plain": [
       "1            Bahrain Grand Prix\n",
       "2      Saudi Arabian Grand Prix\n",
       "3         Australian Grand Prix\n",
       "4           Japanese Grand Prix\n",
       "5            Chinese Grand Prix\n",
       "6              Miami Grand Prix\n",
       "7     Emilia Romagna Grand Prix\n",
       "8             Monaco Grand Prix\n",
       "9           Canadian Grand Prix\n",
       "10           Spanish Grand Prix\n",
       "11          Austrian Grand Prix\n",
       "12           British Grand Prix\n",
       "13         Hungarian Grand Prix\n",
       "14           Belgian Grand Prix\n",
       "15             Dutch Grand Prix\n",
       "16           Italian Grand Prix\n",
       "17        Azerbaijan Grand Prix\n",
       "18         Singapore Grand Prix\n",
       "19     United States Grand Prix\n",
       "20       Mexico City Grand Prix\n",
       "21         São Paulo Grand Prix\n",
       "22         Las Vegas Grand Prix\n",
       "23             Qatar Grand Prix\n",
       "24         Abu Dhabi Grand Prix\n",
       "Name: EventName, dtype: object"
      ]
     },
     "execution_count": 14,
     "metadata": {},
     "output_type": "execute_result"
    }
   ],
   "source": [
    "#list all events\n",
    "calendar['EventName']"
   ]
  },
  {
   "cell_type": "code",
   "execution_count": 8,
   "id": "f40af57c0bda3ddf",
   "metadata": {
    "ExecuteTime": {
     "end_time": "2025-04-02T15:10:49.068944Z",
     "start_time": "2025-04-02T15:10:48.506876Z"
    }
   },
   "outputs": [
    {
     "data": {
      "text/html": [
       "<div>\n",
       "<style scoped>\n",
       "    .dataframe tbody tr th:only-of-type {\n",
       "        vertical-align: middle;\n",
       "    }\n",
       "\n",
       "    .dataframe tbody tr th {\n",
       "        vertical-align: top;\n",
       "    }\n",
       "\n",
       "    .dataframe thead th {\n",
       "        text-align: right;\n",
       "    }\n",
       "</style>\n",
       "<table border=\"1\" class=\"dataframe\">\n",
       "  <thead>\n",
       "    <tr style=\"text-align: right;\">\n",
       "      <th></th>\n",
       "      <th>RoundNumber</th>\n",
       "      <th>Country</th>\n",
       "      <th>Location</th>\n",
       "      <th>OfficialEventName</th>\n",
       "      <th>EventDate</th>\n",
       "      <th>EventName</th>\n",
       "      <th>EventFormat</th>\n",
       "      <th>Session1</th>\n",
       "      <th>Session1Date</th>\n",
       "      <th>Session1DateUtc</th>\n",
       "      <th>...</th>\n",
       "      <th>Session3</th>\n",
       "      <th>Session3Date</th>\n",
       "      <th>Session3DateUtc</th>\n",
       "      <th>Session4</th>\n",
       "      <th>Session4Date</th>\n",
       "      <th>Session4DateUtc</th>\n",
       "      <th>Session5</th>\n",
       "      <th>Session5Date</th>\n",
       "      <th>Session5DateUtc</th>\n",
       "      <th>F1ApiSupport</th>\n",
       "    </tr>\n",
       "  </thead>\n",
       "  <tbody>\n",
       "    <tr>\n",
       "      <th>1</th>\n",
       "      <td>1</td>\n",
       "      <td>Australia</td>\n",
       "      <td>Melbourne</td>\n",
       "      <td>FORMULA 1 LOUIS VUITTON AUSTRALIAN GRAND PRIX ...</td>\n",
       "      <td>2025-03-16</td>\n",
       "      <td>Australian Grand Prix</td>\n",
       "      <td>conventional</td>\n",
       "      <td>Practice 1</td>\n",
       "      <td>2025-03-14 12:30:00+11:00</td>\n",
       "      <td>2025-03-14 01:30:00</td>\n",
       "      <td>...</td>\n",
       "      <td>Practice 3</td>\n",
       "      <td>2025-03-15 12:30:00+11:00</td>\n",
       "      <td>2025-03-15 01:30:00</td>\n",
       "      <td>Qualifying</td>\n",
       "      <td>2025-03-15 16:00:00+11:00</td>\n",
       "      <td>2025-03-15 05:00:00</td>\n",
       "      <td>Race</td>\n",
       "      <td>2025-03-16 15:00:00+11:00</td>\n",
       "      <td>2025-03-16 04:00:00</td>\n",
       "      <td>True</td>\n",
       "    </tr>\n",
       "    <tr>\n",
       "      <th>2</th>\n",
       "      <td>2</td>\n",
       "      <td>China</td>\n",
       "      <td>Shanghai</td>\n",
       "      <td>FORMULA 1 HEINEKEN CHINESE GRAND PRIX 2025</td>\n",
       "      <td>2025-03-23</td>\n",
       "      <td>Chinese Grand Prix</td>\n",
       "      <td>sprint_qualifying</td>\n",
       "      <td>Practice 1</td>\n",
       "      <td>2025-03-21 11:30:00+08:00</td>\n",
       "      <td>2025-03-21 03:30:00</td>\n",
       "      <td>...</td>\n",
       "      <td>Sprint</td>\n",
       "      <td>2025-03-22 11:00:00+08:00</td>\n",
       "      <td>2025-03-22 03:00:00</td>\n",
       "      <td>Qualifying</td>\n",
       "      <td>2025-03-22 15:00:00+08:00</td>\n",
       "      <td>2025-03-22 07:00:00</td>\n",
       "      <td>Race</td>\n",
       "      <td>2025-03-23 15:00:00+08:00</td>\n",
       "      <td>2025-03-23 07:00:00</td>\n",
       "      <td>True</td>\n",
       "    </tr>\n",
       "  </tbody>\n",
       "</table>\n",
       "<p>2 rows × 23 columns</p>\n",
       "</div>"
      ],
      "text/plain": [
       "   RoundNumber    Country   Location  \\\n",
       "1            1  Australia  Melbourne   \n",
       "2            2      China   Shanghai   \n",
       "\n",
       "                                   OfficialEventName  EventDate  \\\n",
       "1  FORMULA 1 LOUIS VUITTON AUSTRALIAN GRAND PRIX ... 2025-03-16   \n",
       "2         FORMULA 1 HEINEKEN CHINESE GRAND PRIX 2025 2025-03-23   \n",
       "\n",
       "               EventName        EventFormat    Session1  \\\n",
       "1  Australian Grand Prix       conventional  Practice 1   \n",
       "2     Chinese Grand Prix  sprint_qualifying  Practice 1   \n",
       "\n",
       "                Session1Date     Session1DateUtc  ...    Session3  \\\n",
       "1  2025-03-14 12:30:00+11:00 2025-03-14 01:30:00  ...  Practice 3   \n",
       "2  2025-03-21 11:30:00+08:00 2025-03-21 03:30:00  ...      Sprint   \n",
       "\n",
       "                Session3Date     Session3DateUtc    Session4  \\\n",
       "1  2025-03-15 12:30:00+11:00 2025-03-15 01:30:00  Qualifying   \n",
       "2  2025-03-22 11:00:00+08:00 2025-03-22 03:00:00  Qualifying   \n",
       "\n",
       "                Session4Date     Session4DateUtc Session5  \\\n",
       "1  2025-03-15 16:00:00+11:00 2025-03-15 05:00:00     Race   \n",
       "2  2025-03-22 15:00:00+08:00 2025-03-22 07:00:00     Race   \n",
       "\n",
       "                Session5Date     Session5DateUtc F1ApiSupport  \n",
       "1  2025-03-16 15:00:00+11:00 2025-03-16 04:00:00         True  \n",
       "2  2025-03-23 15:00:00+08:00 2025-03-23 07:00:00         True  \n",
       "\n",
       "[2 rows x 23 columns]"
      ]
     },
     "execution_count": 8,
     "metadata": {},
     "output_type": "execute_result"
    }
   ],
   "source": [
    "#filter 2025 races to show only ones that happened already (with if year = 2025 in real code)\n",
    "cal_2025 = fastf1.get_event_schedule(2025, include_testing=False)\n",
    "today = pd.to_datetime(date.today())\n",
    "past_races = cal_2025[cal_2025['EventDate'] < today]\n",
    "past_races.head()"
   ]
  },
  {
   "cell_type": "code",
   "execution_count": 4,
   "id": "767f97ef4045b0fe",
   "metadata": {
    "ExecuteTime": {
     "end_time": "2025-03-30T20:39:04.901676Z",
     "start_time": "2025-03-30T20:39:04.886085Z"
    }
   },
   "outputs": [
    {
     "name": "stdout",
     "output_type": "stream",
     "text": [
      "1                 Race 1 - Bahrain Grand Prix - Sakhir\n",
      "2           Race 2 - Saudi Arabian Grand Prix - Jeddah\n",
      "3           Race 3 - Australian Grand Prix - Melbourne\n",
      "4                Race 4 - Japanese Grand Prix - Suzuka\n",
      "5               Race 5 - Chinese Grand Prix - Shanghai\n",
      "6                    Race 6 - Miami Grand Prix - Miami\n",
      "7           Race 7 - Emilia Romagna Grand Prix - Imola\n",
      "8                  Race 8 - Monaco Grand Prix - Monaco\n",
      "9              Race 9 - Canadian Grand Prix - Montréal\n",
      "10            Race 10 - Spanish Grand Prix - Barcelona\n",
      "11           Race 11 - Austrian Grand Prix - Spielberg\n",
      "12          Race 12 - British Grand Prix - Silverstone\n",
      "13           Race 13 - Hungarian Grand Prix - Budapest\n",
      "14    Race 14 - Belgian Grand Prix - Spa-Francorchamps\n",
      "15              Race 15 - Dutch Grand Prix - Zandvoort\n",
      "16                Race 16 - Italian Grand Prix - Monza\n",
      "17              Race 17 - Azerbaijan Grand Prix - Baku\n",
      "18         Race 18 - Singapore Grand Prix - Marina Bay\n",
      "19         Race 19 - United States Grand Prix - Austin\n",
      "20      Race 20 - Mexico City Grand Prix - Mexico City\n",
      "21          Race 21 - São Paulo Grand Prix - São Paulo\n",
      "22          Race 22 - Las Vegas Grand Prix - Las Vegas\n",
      "23                 Race 23 - Qatar Grand Prix - Lusail\n",
      "24         Race 24 - Abu Dhabi Grand Prix - Yas Island\n",
      "Name: CustomEventName, dtype: object\n"
     ]
    }
   ],
   "source": [
    "#create custom event name for usage in streamlit input fields\n",
    "calendar['CustomEventName'] = \"Race \" + calendar['RoundNumber'].astype(str) + \" - \" + calendar['EventName'] + \" - \" + calendar['Location']\n",
    "print(calendar['CustomEventName'])"
   ]
  },
  {
   "cell_type": "code",
   "execution_count": 4,
   "id": "40c6457327e94e7b",
   "metadata": {
    "ExecuteTime": {
     "end_time": "2025-04-02T13:35:03.445775Z",
     "start_time": "2025-04-02T13:35:03.422824Z"
    }
   },
   "outputs": [
    {
     "name": "stdout",
     "output_type": "stream",
     "text": [
      "1                 Race 1 - Bahrain Grand Prix - Sakhir\n",
      "2           Race 2 - Saudi Arabian Grand Prix - Jeddah\n",
      "3           Race 3 - Australian Grand Prix - Melbourne\n",
      "4                Race 4 - Japanese Grand Prix - Suzuka\n",
      "5               Race 5 - Chinese Grand Prix - Shanghai\n",
      "6                            Race 6 - Miami Grand Prix\n",
      "7           Race 7 - Emilia Romagna Grand Prix - Imola\n",
      "8                           Race 8 - Monaco Grand Prix\n",
      "9              Race 9 - Canadian Grand Prix - Montréal\n",
      "10            Race 10 - Spanish Grand Prix - Barcelona\n",
      "11           Race 11 - Austrian Grand Prix - Spielberg\n",
      "12          Race 12 - British Grand Prix - Silverstone\n",
      "13           Race 13 - Hungarian Grand Prix - Budapest\n",
      "14    Race 14 - Belgian Grand Prix - Spa-Francorchamps\n",
      "15              Race 15 - Dutch Grand Prix - Zandvoort\n",
      "16                Race 16 - Italian Grand Prix - Monza\n",
      "17              Race 17 - Azerbaijan Grand Prix - Baku\n",
      "18         Race 18 - Singapore Grand Prix - Marina Bay\n",
      "19         Race 19 - United States Grand Prix - Austin\n",
      "20                    Race 20 - Mexico City Grand Prix\n",
      "21                      Race 21 - São Paulo Grand Prix\n",
      "22                      Race 22 - Las Vegas Grand Prix\n",
      "23                 Race 23 - Qatar Grand Prix - Lusail\n",
      "24         Race 24 - Abu Dhabi Grand Prix - Yas Island\n",
      "Name: CustomEventName, dtype: object\n"
     ]
    }
   ],
   "source": [
    "#alternativ: doppelungen in custom event name verhindern, indem location nur angezeigt wird, wenn nicht schon im originalen Eventnamen enthalten. wird so ins projekt übernommen\n",
    "import numpy as np\n",
    "import re\n",
    "\n",
    "calendar['CustomEventName'] = np.where(\n",
    "    calendar.apply(lambda row: re.search(r'\\b' + re.escape(row['Location']) + r'\\b', row['EventName'], re.IGNORECASE), axis=1),\n",
    "    \"Race \" + calendar['RoundNumber'].astype(str) + \" - \" + calendar['EventName'],\n",
    "    \"Race \" + calendar['RoundNumber'].astype(str) + \" - \" + calendar['EventName'] + \" - \" + calendar['Location']\n",
    ")\n",
    "\n",
    "print(calendar['CustomEventName'])"
   ]
  },
  {
   "cell_type": "code",
   "execution_count": 3,
   "id": "c20c1a41bd8add5a",
   "metadata": {
    "ExecuteTime": {
     "end_time": "2025-04-03T11:38:30.423105Z",
     "start_time": "2025-04-03T11:38:30.376050Z"
    }
   },
   "outputs": [],
   "source": [
    "#session results for example race (Silverstone 2024)\n",
    "#Possible Sessions identifiers (from fastf1 Documentation):\n",
    "# 'Practice 1', 'Practice 2', 'Practice 3', 'Sprint', 'Sprint Shootout', 'Sprint Qualifying', 'Qualifying', 'Race'\n",
    "#short as 'FP1', 'FP2', 'FP3', 'Q', 'S', 'SS', 'SQ', 'R' \n",
    "session = fastf1.get_session(2024, 12, 'R')"
   ]
  },
  {
   "cell_type": "code",
   "execution_count": 4,
   "id": "7203408b610e254a",
   "metadata": {
    "ExecuteTime": {
     "end_time": "2025-04-03T11:38:32.983486Z",
     "start_time": "2025-04-03T11:38:32.975506Z"
    }
   },
   "outputs": [
    {
     "name": "stdout",
     "output_type": "stream",
     "text": [
      "Race\n",
      "2024-07-07 14:00:00\n",
      "British Grand Prix\n"
     ]
    }
   ],
   "source": [
    "print(session.name)\n",
    "print(session.date)\n",
    "print(session.event['EventName'])"
   ]
  },
  {
   "cell_type": "code",
   "execution_count": 5,
   "id": "dbb347a37042e2d4",
   "metadata": {
    "ExecuteTime": {
     "end_time": "2025-04-03T11:38:43.038149Z",
     "start_time": "2025-04-03T11:38:36.228424Z"
    }
   },
   "outputs": [
    {
     "name": "stderr",
     "output_type": "stream",
     "text": [
      "core           INFO \tLoading data for British Grand Prix - Race [v3.5.0]\n",
      "req            INFO \tUsing cached data for session_info\n",
      "req            INFO \tUsing cached data for driver_info\n",
      "req            INFO \tUsing cached data for session_status_data\n",
      "req            INFO \tUsing cached data for lap_count\n",
      "req            INFO \tUsing cached data for track_status_data\n",
      "req            INFO \tUsing cached data for _extended_timing_data\n",
      "req            INFO \tUsing cached data for timing_app_data\n",
      "core           INFO \tProcessing timing data...\n",
      "req            INFO \tUsing cached data for car_data\n",
      "req            INFO \tUsing cached data for position_data\n",
      "req            INFO \tUsing cached data for weather_data\n",
      "req            INFO \tUsing cached data for race_control_messages\n",
      "core           INFO \tFinished loading data for 20 drivers: ['44', '1', '4', '81', '55', '27', '18', '14', '23', '22', '2', '20', '3', '16', '77', '31', '11', '24', '63', '10']\n"
     ]
    },
    {
     "data": {
      "text/html": [
       "<div>\n",
       "<style scoped>\n",
       "    .dataframe tbody tr th:only-of-type {\n",
       "        vertical-align: middle;\n",
       "    }\n",
       "\n",
       "    .dataframe tbody tr th {\n",
       "        vertical-align: top;\n",
       "    }\n",
       "\n",
       "    .dataframe thead th {\n",
       "        text-align: right;\n",
       "    }\n",
       "</style>\n",
       "<table border=\"1\" class=\"dataframe\">\n",
       "  <thead>\n",
       "    <tr style=\"text-align: right;\">\n",
       "      <th></th>\n",
       "      <th>DriverNumber</th>\n",
       "      <th>BroadcastName</th>\n",
       "      <th>Abbreviation</th>\n",
       "      <th>DriverId</th>\n",
       "      <th>TeamName</th>\n",
       "      <th>TeamColor</th>\n",
       "      <th>TeamId</th>\n",
       "      <th>FirstName</th>\n",
       "      <th>LastName</th>\n",
       "      <th>FullName</th>\n",
       "      <th>...</th>\n",
       "      <th>CountryCode</th>\n",
       "      <th>Position</th>\n",
       "      <th>ClassifiedPosition</th>\n",
       "      <th>GridPosition</th>\n",
       "      <th>Q1</th>\n",
       "      <th>Q2</th>\n",
       "      <th>Q3</th>\n",
       "      <th>Time</th>\n",
       "      <th>Status</th>\n",
       "      <th>Points</th>\n",
       "    </tr>\n",
       "  </thead>\n",
       "  <tbody>\n",
       "    <tr>\n",
       "      <th>44</th>\n",
       "      <td>44</td>\n",
       "      <td>L HAMILTON</td>\n",
       "      <td>HAM</td>\n",
       "      <td>hamilton</td>\n",
       "      <td>Mercedes</td>\n",
       "      <td>27F4D2</td>\n",
       "      <td>mercedes</td>\n",
       "      <td>Lewis</td>\n",
       "      <td>Hamilton</td>\n",
       "      <td>Lewis Hamilton</td>\n",
       "      <td>...</td>\n",
       "      <td>GBR</td>\n",
       "      <td>1.0</td>\n",
       "      <td>1</td>\n",
       "      <td>2.0</td>\n",
       "      <td>NaT</td>\n",
       "      <td>NaT</td>\n",
       "      <td>NaT</td>\n",
       "      <td>0 days 01:22:27.059000</td>\n",
       "      <td>Finished</td>\n",
       "      <td>25.0</td>\n",
       "    </tr>\n",
       "    <tr>\n",
       "      <th>1</th>\n",
       "      <td>1</td>\n",
       "      <td>M VERSTAPPEN</td>\n",
       "      <td>VER</td>\n",
       "      <td>max_verstappen</td>\n",
       "      <td>Red Bull Racing</td>\n",
       "      <td>3671C6</td>\n",
       "      <td>red_bull</td>\n",
       "      <td>Max</td>\n",
       "      <td>Verstappen</td>\n",
       "      <td>Max Verstappen</td>\n",
       "      <td>...</td>\n",
       "      <td>NED</td>\n",
       "      <td>2.0</td>\n",
       "      <td>2</td>\n",
       "      <td>4.0</td>\n",
       "      <td>NaT</td>\n",
       "      <td>NaT</td>\n",
       "      <td>NaT</td>\n",
       "      <td>0 days 00:00:01.465000</td>\n",
       "      <td>Finished</td>\n",
       "      <td>18.0</td>\n",
       "    </tr>\n",
       "    <tr>\n",
       "      <th>4</th>\n",
       "      <td>4</td>\n",
       "      <td>L NORRIS</td>\n",
       "      <td>NOR</td>\n",
       "      <td>norris</td>\n",
       "      <td>McLaren</td>\n",
       "      <td>FF8000</td>\n",
       "      <td>mclaren</td>\n",
       "      <td>Lando</td>\n",
       "      <td>Norris</td>\n",
       "      <td>Lando Norris</td>\n",
       "      <td>...</td>\n",
       "      <td>GBR</td>\n",
       "      <td>3.0</td>\n",
       "      <td>3</td>\n",
       "      <td>3.0</td>\n",
       "      <td>NaT</td>\n",
       "      <td>NaT</td>\n",
       "      <td>NaT</td>\n",
       "      <td>0 days 00:00:07.547000</td>\n",
       "      <td>Finished</td>\n",
       "      <td>15.0</td>\n",
       "    </tr>\n",
       "    <tr>\n",
       "      <th>81</th>\n",
       "      <td>81</td>\n",
       "      <td>O PIASTRI</td>\n",
       "      <td>PIA</td>\n",
       "      <td>piastri</td>\n",
       "      <td>McLaren</td>\n",
       "      <td>FF8000</td>\n",
       "      <td>mclaren</td>\n",
       "      <td>Oscar</td>\n",
       "      <td>Piastri</td>\n",
       "      <td>Oscar Piastri</td>\n",
       "      <td>...</td>\n",
       "      <td>AUS</td>\n",
       "      <td>4.0</td>\n",
       "      <td>4</td>\n",
       "      <td>5.0</td>\n",
       "      <td>NaT</td>\n",
       "      <td>NaT</td>\n",
       "      <td>NaT</td>\n",
       "      <td>0 days 00:00:12.429000</td>\n",
       "      <td>Finished</td>\n",
       "      <td>12.0</td>\n",
       "    </tr>\n",
       "    <tr>\n",
       "      <th>55</th>\n",
       "      <td>55</td>\n",
       "      <td>C SAINZ</td>\n",
       "      <td>SAI</td>\n",
       "      <td>sainz</td>\n",
       "      <td>Ferrari</td>\n",
       "      <td>E80020</td>\n",
       "      <td>ferrari</td>\n",
       "      <td>Carlos</td>\n",
       "      <td>Sainz</td>\n",
       "      <td>Carlos Sainz</td>\n",
       "      <td>...</td>\n",
       "      <td>ESP</td>\n",
       "      <td>5.0</td>\n",
       "      <td>5</td>\n",
       "      <td>7.0</td>\n",
       "      <td>NaT</td>\n",
       "      <td>NaT</td>\n",
       "      <td>NaT</td>\n",
       "      <td>0 days 00:00:47.318000</td>\n",
       "      <td>Finished</td>\n",
       "      <td>11.0</td>\n",
       "    </tr>\n",
       "  </tbody>\n",
       "</table>\n",
       "<p>5 rows × 21 columns</p>\n",
       "</div>"
      ],
      "text/plain": [
       "   DriverNumber BroadcastName Abbreviation        DriverId         TeamName  \\\n",
       "44           44    L HAMILTON          HAM        hamilton         Mercedes   \n",
       "1             1  M VERSTAPPEN          VER  max_verstappen  Red Bull Racing   \n",
       "4             4      L NORRIS          NOR          norris          McLaren   \n",
       "81           81     O PIASTRI          PIA         piastri          McLaren   \n",
       "55           55       C SAINZ          SAI           sainz          Ferrari   \n",
       "\n",
       "   TeamColor    TeamId FirstName    LastName        FullName  ... CountryCode  \\\n",
       "44    27F4D2  mercedes     Lewis    Hamilton  Lewis Hamilton  ...         GBR   \n",
       "1     3671C6  red_bull       Max  Verstappen  Max Verstappen  ...         NED   \n",
       "4     FF8000   mclaren     Lando      Norris    Lando Norris  ...         GBR   \n",
       "81    FF8000   mclaren     Oscar     Piastri   Oscar Piastri  ...         AUS   \n",
       "55    E80020   ferrari    Carlos       Sainz    Carlos Sainz  ...         ESP   \n",
       "\n",
       "   Position  ClassifiedPosition GridPosition  Q1  Q2  Q3  \\\n",
       "44      1.0                   1          2.0 NaT NaT NaT   \n",
       "1       2.0                   2          4.0 NaT NaT NaT   \n",
       "4       3.0                   3          3.0 NaT NaT NaT   \n",
       "81      4.0                   4          5.0 NaT NaT NaT   \n",
       "55      5.0                   5          7.0 NaT NaT NaT   \n",
       "\n",
       "                     Time    Status Points  \n",
       "44 0 days 01:22:27.059000  Finished   25.0  \n",
       "1  0 days 00:00:01.465000  Finished   18.0  \n",
       "4  0 days 00:00:07.547000  Finished   15.0  \n",
       "81 0 days 00:00:12.429000  Finished   12.0  \n",
       "55 0 days 00:00:47.318000  Finished   11.0  \n",
       "\n",
       "[5 rows x 21 columns]"
      ]
     },
     "execution_count": 5,
     "metadata": {},
     "output_type": "execute_result"
    }
   ],
   "source": [
    "#important: load all data for this session\n",
    "session.load() #this can take a few seconds\n",
    "session.results.head()"
   ]
  },
  {
   "cell_type": "code",
   "execution_count": 9,
   "id": "99a6742e0dbfd0d5",
   "metadata": {
    "ExecuteTime": {
     "end_time": "2025-04-02T14:03:59.604556Z",
     "start_time": "2025-04-02T14:03:59.596847Z"
    }
   },
   "outputs": [
    {
     "data": {
      "text/plain": [
       "['44',\n",
       " '1',\n",
       " '4',\n",
       " '81',\n",
       " '55',\n",
       " '27',\n",
       " '18',\n",
       " '14',\n",
       " '23',\n",
       " '22',\n",
       " '2',\n",
       " '20',\n",
       " '3',\n",
       " '16',\n",
       " '77',\n",
       " '31',\n",
       " '11',\n",
       " '24',\n",
       " '63',\n",
       " '10']"
      ]
     },
     "execution_count": 9,
     "metadata": {},
     "output_type": "execute_result"
    }
   ],
   "source": [
    "session.drivers"
   ]
  },
  {
   "cell_type": "code",
   "execution_count": 11,
   "id": "c88c0b55b55df680",
   "metadata": {
    "ExecuteTime": {
     "end_time": "2025-03-23T11:46:31.798808Z",
     "start_time": "2025-03-23T11:46:31.790809Z"
    }
   },
   "outputs": [
    {
     "data": {
      "text/plain": [
       "Index(['DriverNumber', 'BroadcastName', 'Abbreviation', 'DriverId', 'TeamName',\n",
       "       'TeamColor', 'TeamId', 'FirstName', 'LastName', 'FullName',\n",
       "       'HeadshotUrl', 'CountryCode', 'Position', 'ClassifiedPosition',\n",
       "       'GridPosition', 'Q1', 'Q2', 'Q3', 'Time', 'Status', 'Points'],\n",
       "      dtype='object')"
      ]
     },
     "execution_count": 11,
     "metadata": {},
     "output_type": "execute_result"
    }
   ],
   "source": [
    "session.results.columns"
   ]
  },
  {
   "cell_type": "code",
   "execution_count": 24,
   "id": "8774076275b874a5",
   "metadata": {
    "ExecuteTime": {
     "end_time": "2025-03-23T10:45:03.424025Z",
     "start_time": "2025-03-23T10:45:03.411855Z"
    }
   },
   "outputs": [
    {
     "data": {
      "text/plain": [
       "(20, 21)"
      ]
     },
     "execution_count": 24,
     "metadata": {},
     "output_type": "execute_result"
    }
   ],
   "source": [
    "session.results.shape"
   ]
  },
  {
   "cell_type": "code",
   "execution_count": 25,
   "id": "e913ec610a831ede",
   "metadata": {
    "ExecuteTime": {
     "end_time": "2025-03-23T10:45:06.056873Z",
     "start_time": "2025-03-23T10:45:06.040476Z"
    }
   },
   "outputs": [
    {
     "name": "stdout",
     "output_type": "stream",
     "text": [
      "<class 'fastf1.core.SessionResults'>\n",
      "Index: 20 entries, 44 to 10\n",
      "Data columns (total 21 columns):\n",
      " #   Column              Non-Null Count  Dtype          \n",
      "---  ------              --------------  -----          \n",
      " 0   DriverNumber        20 non-null     object         \n",
      " 1   BroadcastName       20 non-null     object         \n",
      " 2   Abbreviation        20 non-null     object         \n",
      " 3   DriverId            20 non-null     object         \n",
      " 4   TeamName            20 non-null     object         \n",
      " 5   TeamColor           20 non-null     object         \n",
      " 6   TeamId              20 non-null     object         \n",
      " 7   FirstName           20 non-null     object         \n",
      " 8   LastName            20 non-null     object         \n",
      " 9   FullName            20 non-null     object         \n",
      " 10  HeadshotUrl         20 non-null     object         \n",
      " 11  CountryCode         20 non-null     object         \n",
      " 12  Position            20 non-null     float64        \n",
      " 13  ClassifiedPosition  20 non-null     object         \n",
      " 14  GridPosition        20 non-null     float64        \n",
      " 15  Q1                  0 non-null      timedelta64[ns]\n",
      " 16  Q2                  0 non-null      timedelta64[ns]\n",
      " 17  Q3                  0 non-null      timedelta64[ns]\n",
      " 18  Time                18 non-null     timedelta64[ns]\n",
      " 19  Status              20 non-null     object         \n",
      " 20  Points              20 non-null     float64        \n",
      "dtypes: float64(3), object(14), timedelta64[ns](4)\n",
      "memory usage: 3.4+ KB\n"
     ]
    }
   ],
   "source": [
    "session.results.info()"
   ]
  },
  {
   "cell_type": "code",
   "execution_count": 6,
   "id": "6a2e2c7dd87ee483",
   "metadata": {
    "ExecuteTime": {
     "end_time": "2025-04-03T11:38:50.893881Z",
     "start_time": "2025-04-03T11:38:50.882195Z"
    }
   },
   "outputs": [
    {
     "name": "stdout",
     "output_type": "stream",
     "text": [
      "44          44 - Lewis Hamilton - Mercedes\n",
      "1     1 - Max Verstappen - Red Bull Racing\n",
      "4               4 - Lando Norris - McLaren\n",
      "81            81 - Oscar Piastri - McLaren\n",
      "55             55 - Carlos Sainz - Ferrari\n",
      "27     27 - Nico Hulkenberg - Haas F1 Team\n",
      "18        18 - Lance Stroll - Aston Martin\n",
      "14     14 - Fernando Alonso - Aston Martin\n",
      "23         23 - Alexander Albon - Williams\n",
      "22                  22 - Yuki Tsunoda - RB\n",
      "2            2 - Logan Sargeant - Williams\n",
      "20     20 - Kevin Magnussen - Haas F1 Team\n",
      "3                3 - Daniel Ricciardo - RB\n",
      "16          16 - Charles Leclerc - Ferrari\n",
      "77      77 - Valtteri Bottas - Kick Sauber\n",
      "31              31 - Esteban Ocon - Alpine\n",
      "11     11 - Sergio Perez - Red Bull Racing\n",
      "24          24 - Guanyu Zhou - Kick Sauber\n",
      "63          63 - George Russell - Mercedes\n",
      "10              10 - Pierre Gasly - Alpine\n",
      "Name: CustomDriverName, dtype: object\n"
     ]
    }
   ],
   "source": [
    "#create custom driver name for usage in streamlit input fields\n",
    "#what we probably want to do is make a smaller version of results as \"driver_info\" dataframe, then join the with the laps dataframe on driver number or \"Abbreviation\" column\n",
    "results = session.results\n",
    "results['CustomDriverName'] = results['DriverNumber'] + \" - \" + results['FullName'] + \" - \" + results['TeamName']\n",
    "print(results['CustomDriverName'])"
   ]
  },
  {
   "cell_type": "code",
   "execution_count": 6,
   "id": "46399a1439304695",
   "metadata": {
    "ExecuteTime": {
     "end_time": "2025-03-31T11:29:39.932445Z",
     "start_time": "2025-03-31T11:29:39.895117Z"
    }
   },
   "outputs": [
    {
     "data": {
      "text/html": [
       "<div>\n",
       "<style scoped>\n",
       "    .dataframe tbody tr th:only-of-type {\n",
       "        vertical-align: middle;\n",
       "    }\n",
       "\n",
       "    .dataframe tbody tr th {\n",
       "        vertical-align: top;\n",
       "    }\n",
       "\n",
       "    .dataframe thead th {\n",
       "        text-align: right;\n",
       "    }\n",
       "</style>\n",
       "<table border=\"1\" class=\"dataframe\">\n",
       "  <thead>\n",
       "    <tr style=\"text-align: right;\">\n",
       "      <th></th>\n",
       "      <th>Time</th>\n",
       "      <th>Driver</th>\n",
       "      <th>DriverNumber</th>\n",
       "      <th>LapTime</th>\n",
       "      <th>LapNumber</th>\n",
       "      <th>Stint</th>\n",
       "      <th>PitOutTime</th>\n",
       "      <th>PitInTime</th>\n",
       "      <th>Sector1Time</th>\n",
       "      <th>Sector2Time</th>\n",
       "      <th>...</th>\n",
       "      <th>FreshTyre</th>\n",
       "      <th>Team</th>\n",
       "      <th>LapStartTime</th>\n",
       "      <th>LapStartDate</th>\n",
       "      <th>TrackStatus</th>\n",
       "      <th>Position</th>\n",
       "      <th>Deleted</th>\n",
       "      <th>DeletedReason</th>\n",
       "      <th>FastF1Generated</th>\n",
       "      <th>IsAccurate</th>\n",
       "    </tr>\n",
       "  </thead>\n",
       "  <tbody>\n",
       "    <tr>\n",
       "      <th>0</th>\n",
       "      <td>0 days 00:59:51.778000</td>\n",
       "      <td>HAM</td>\n",
       "      <td>44</td>\n",
       "      <td>0 days 00:01:36.034000</td>\n",
       "      <td>1.0</td>\n",
       "      <td>1.0</td>\n",
       "      <td>NaT</td>\n",
       "      <td>NaT</td>\n",
       "      <td>NaT</td>\n",
       "      <td>0 days 00:00:37.703000</td>\n",
       "      <td>...</td>\n",
       "      <td>True</td>\n",
       "      <td>Mercedes</td>\n",
       "      <td>0 days 00:58:15.512000</td>\n",
       "      <td>2024-07-07 14:03:12.541</td>\n",
       "      <td>1</td>\n",
       "      <td>3.0</td>\n",
       "      <td>False</td>\n",
       "      <td></td>\n",
       "      <td>False</td>\n",
       "      <td>False</td>\n",
       "    </tr>\n",
       "    <tr>\n",
       "      <th>1</th>\n",
       "      <td>0 days 01:01:23.198000</td>\n",
       "      <td>HAM</td>\n",
       "      <td>44</td>\n",
       "      <td>0 days 00:01:31.420000</td>\n",
       "      <td>2.0</td>\n",
       "      <td>1.0</td>\n",
       "      <td>NaT</td>\n",
       "      <td>NaT</td>\n",
       "      <td>0 days 00:00:29.249000</td>\n",
       "      <td>0 days 00:00:37.314000</td>\n",
       "      <td>...</td>\n",
       "      <td>True</td>\n",
       "      <td>Mercedes</td>\n",
       "      <td>0 days 00:59:51.778000</td>\n",
       "      <td>2024-07-07 14:04:48.807</td>\n",
       "      <td>1</td>\n",
       "      <td>2.0</td>\n",
       "      <td>False</td>\n",
       "      <td></td>\n",
       "      <td>False</td>\n",
       "      <td>True</td>\n",
       "    </tr>\n",
       "    <tr>\n",
       "      <th>2</th>\n",
       "      <td>0 days 01:02:54.914000</td>\n",
       "      <td>HAM</td>\n",
       "      <td>44</td>\n",
       "      <td>0 days 00:01:31.716000</td>\n",
       "      <td>3.0</td>\n",
       "      <td>1.0</td>\n",
       "      <td>NaT</td>\n",
       "      <td>NaT</td>\n",
       "      <td>0 days 00:00:29.287000</td>\n",
       "      <td>0 days 00:00:37.133000</td>\n",
       "      <td>...</td>\n",
       "      <td>True</td>\n",
       "      <td>Mercedes</td>\n",
       "      <td>0 days 01:01:23.198000</td>\n",
       "      <td>2024-07-07 14:06:20.227</td>\n",
       "      <td>1</td>\n",
       "      <td>2.0</td>\n",
       "      <td>False</td>\n",
       "      <td></td>\n",
       "      <td>False</td>\n",
       "      <td>True</td>\n",
       "    </tr>\n",
       "    <tr>\n",
       "      <th>3</th>\n",
       "      <td>0 days 01:04:26.902000</td>\n",
       "      <td>HAM</td>\n",
       "      <td>44</td>\n",
       "      <td>0 days 00:01:31.988000</td>\n",
       "      <td>4.0</td>\n",
       "      <td>1.0</td>\n",
       "      <td>NaT</td>\n",
       "      <td>NaT</td>\n",
       "      <td>0 days 00:00:29.554000</td>\n",
       "      <td>0 days 00:00:37.258000</td>\n",
       "      <td>...</td>\n",
       "      <td>True</td>\n",
       "      <td>Mercedes</td>\n",
       "      <td>0 days 01:02:54.914000</td>\n",
       "      <td>2024-07-07 14:07:51.943</td>\n",
       "      <td>1</td>\n",
       "      <td>2.0</td>\n",
       "      <td>False</td>\n",
       "      <td></td>\n",
       "      <td>False</td>\n",
       "      <td>True</td>\n",
       "    </tr>\n",
       "    <tr>\n",
       "      <th>4</th>\n",
       "      <td>0 days 01:05:58.579000</td>\n",
       "      <td>HAM</td>\n",
       "      <td>44</td>\n",
       "      <td>0 days 00:01:31.677000</td>\n",
       "      <td>5.0</td>\n",
       "      <td>1.0</td>\n",
       "      <td>NaT</td>\n",
       "      <td>NaT</td>\n",
       "      <td>0 days 00:00:29.469000</td>\n",
       "      <td>0 days 00:00:37.231000</td>\n",
       "      <td>...</td>\n",
       "      <td>True</td>\n",
       "      <td>Mercedes</td>\n",
       "      <td>0 days 01:04:26.902000</td>\n",
       "      <td>2024-07-07 14:09:23.931</td>\n",
       "      <td>1</td>\n",
       "      <td>2.0</td>\n",
       "      <td>False</td>\n",
       "      <td></td>\n",
       "      <td>False</td>\n",
       "      <td>True</td>\n",
       "    </tr>\n",
       "  </tbody>\n",
       "</table>\n",
       "<p>5 rows × 31 columns</p>\n",
       "</div>"
      ],
      "text/plain": [
       "                    Time Driver DriverNumber                LapTime  \\\n",
       "0 0 days 00:59:51.778000    HAM           44 0 days 00:01:36.034000   \n",
       "1 0 days 01:01:23.198000    HAM           44 0 days 00:01:31.420000   \n",
       "2 0 days 01:02:54.914000    HAM           44 0 days 00:01:31.716000   \n",
       "3 0 days 01:04:26.902000    HAM           44 0 days 00:01:31.988000   \n",
       "4 0 days 01:05:58.579000    HAM           44 0 days 00:01:31.677000   \n",
       "\n",
       "   LapNumber  Stint PitOutTime PitInTime            Sector1Time  \\\n",
       "0        1.0    1.0        NaT       NaT                    NaT   \n",
       "1        2.0    1.0        NaT       NaT 0 days 00:00:29.249000   \n",
       "2        3.0    1.0        NaT       NaT 0 days 00:00:29.287000   \n",
       "3        4.0    1.0        NaT       NaT 0 days 00:00:29.554000   \n",
       "4        5.0    1.0        NaT       NaT 0 days 00:00:29.469000   \n",
       "\n",
       "             Sector2Time  ... FreshTyre      Team           LapStartTime  \\\n",
       "0 0 days 00:00:37.703000  ...      True  Mercedes 0 days 00:58:15.512000   \n",
       "1 0 days 00:00:37.314000  ...      True  Mercedes 0 days 00:59:51.778000   \n",
       "2 0 days 00:00:37.133000  ...      True  Mercedes 0 days 01:01:23.198000   \n",
       "3 0 days 00:00:37.258000  ...      True  Mercedes 0 days 01:02:54.914000   \n",
       "4 0 days 00:00:37.231000  ...      True  Mercedes 0 days 01:04:26.902000   \n",
       "\n",
       "             LapStartDate  TrackStatus  Position  Deleted  DeletedReason  \\\n",
       "0 2024-07-07 14:03:12.541            1       3.0    False                  \n",
       "1 2024-07-07 14:04:48.807            1       2.0    False                  \n",
       "2 2024-07-07 14:06:20.227            1       2.0    False                  \n",
       "3 2024-07-07 14:07:51.943            1       2.0    False                  \n",
       "4 2024-07-07 14:09:23.931            1       2.0    False                  \n",
       "\n",
       "   FastF1Generated IsAccurate  \n",
       "0            False      False  \n",
       "1            False       True  \n",
       "2            False       True  \n",
       "3            False       True  \n",
       "4            False       True  \n",
       "\n",
       "[5 rows x 31 columns]"
      ]
     },
     "execution_count": 6,
     "metadata": {},
     "output_type": "execute_result"
    }
   ],
   "source": [
    "#loading all laps from the session\n",
    "session.laps.head()"
   ]
  },
  {
   "cell_type": "code",
   "execution_count": 27,
   "id": "7f1745122a905664",
   "metadata": {
    "ExecuteTime": {
     "end_time": "2025-03-23T10:46:35.380625Z",
     "start_time": "2025-03-23T10:46:35.369614Z"
    }
   },
   "outputs": [
    {
     "data": {
      "text/plain": [
       "Index(['Time', 'Driver', 'DriverNumber', 'LapTime', 'LapNumber', 'Stint',\n",
       "       'PitOutTime', 'PitInTime', 'Sector1Time', 'Sector2Time', 'Sector3Time',\n",
       "       'Sector1SessionTime', 'Sector2SessionTime', 'Sector3SessionTime',\n",
       "       'SpeedI1', 'SpeedI2', 'SpeedFL', 'SpeedST', 'IsPersonalBest',\n",
       "       'Compound', 'TyreLife', 'FreshTyre', 'Team', 'LapStartTime',\n",
       "       'LapStartDate', 'TrackStatus', 'Position', 'Deleted', 'DeletedReason',\n",
       "       'FastF1Generated', 'IsAccurate'],\n",
       "      dtype='object')"
      ]
     },
     "execution_count": 27,
     "metadata": {},
     "output_type": "execute_result"
    }
   ],
   "source": [
    "session.laps.columns"
   ]
  },
  {
   "cell_type": "code",
   "execution_count": 28,
   "id": "bcf65f03fa96f76c",
   "metadata": {
    "ExecuteTime": {
     "end_time": "2025-03-23T10:46:52.613502Z",
     "start_time": "2025-03-23T10:46:52.602615Z"
    }
   },
   "outputs": [
    {
     "data": {
      "text/plain": [
       "(961, 31)"
      ]
     },
     "execution_count": 28,
     "metadata": {},
     "output_type": "execute_result"
    }
   ],
   "source": [
    "session.laps.shape"
   ]
  },
  {
   "cell_type": "code",
   "execution_count": 29,
   "id": "cc6cdc95d94965a7",
   "metadata": {
    "ExecuteTime": {
     "end_time": "2025-03-23T10:47:01.772940Z",
     "start_time": "2025-03-23T10:47:01.746400Z"
    }
   },
   "outputs": [
    {
     "name": "stdout",
     "output_type": "stream",
     "text": [
      "<class 'fastf1.core.Laps'>\n",
      "RangeIndex: 961 entries, 0 to 960\n",
      "Data columns (total 31 columns):\n",
      " #   Column              Non-Null Count  Dtype          \n",
      "---  ------              --------------  -----          \n",
      " 0   Time                961 non-null    timedelta64[ns]\n",
      " 1   Driver              961 non-null    object         \n",
      " 2   DriverNumber        961 non-null    object         \n",
      " 3   LapTime             960 non-null    timedelta64[ns]\n",
      " 4   LapNumber           961 non-null    float64        \n",
      " 5   Stint               961 non-null    float64        \n",
      " 6   PitOutTime          46 non-null     timedelta64[ns]\n",
      " 7   PitInTime           46 non-null     timedelta64[ns]\n",
      " 8   Sector1Time         941 non-null    timedelta64[ns]\n",
      " 9   Sector2Time         960 non-null    timedelta64[ns]\n",
      " 10  Sector3Time         960 non-null    timedelta64[ns]\n",
      " 11  Sector1SessionTime  941 non-null    timedelta64[ns]\n",
      " 12  Sector2SessionTime  960 non-null    timedelta64[ns]\n",
      " 13  Sector3SessionTime  960 non-null    timedelta64[ns]\n",
      " 14  SpeedI1             828 non-null    float64        \n",
      " 15  SpeedI2             960 non-null    float64        \n",
      " 16  SpeedFL             914 non-null    float64        \n",
      " 17  SpeedST             960 non-null    float64        \n",
      " 18  IsPersonalBest      961 non-null    bool           \n",
      " 19  Compound            961 non-null    object         \n",
      " 20  TyreLife            961 non-null    float64        \n",
      " 21  FreshTyre           961 non-null    bool           \n",
      " 22  Team                961 non-null    object         \n",
      " 23  LapStartTime        961 non-null    timedelta64[ns]\n",
      " 24  LapStartDate        961 non-null    datetime64[ns] \n",
      " 25  TrackStatus         961 non-null    object         \n",
      " 26  Position            960 non-null    float64        \n",
      " 27  Deleted             961 non-null    bool           \n",
      " 28  DeletedReason       961 non-null    object         \n",
      " 29  FastF1Generated     961 non-null    bool           \n",
      " 30  IsAccurate          961 non-null    bool           \n",
      "dtypes: bool(5), datetime64[ns](1), float64(8), object(6), timedelta64[ns](11)\n",
      "memory usage: 200.0+ KB\n"
     ]
    }
   ],
   "source": [
    "session.laps.info()"
   ]
  },
  {
   "cell_type": "code",
   "execution_count": 12,
   "id": "73e1614259a285b7",
   "metadata": {
    "ExecuteTime": {
     "end_time": "2025-03-23T11:46:38.011575Z",
     "start_time": "2025-03-23T11:46:37.999161Z"
    }
   },
   "outputs": [
    {
     "data": {
      "text/plain": [
       "TrackStatus\n",
       "1    961\n",
       "Name: count, dtype: int64"
      ]
     },
     "execution_count": 12,
     "metadata": {},
     "output_type": "execute_result"
    }
   ],
   "source": [
    "#finding out more about certain variables\n",
    "#Trackstatus, for example 1 as clean track, 4 as safety car. should be used in our visualizations\n",
    "session.laps['TrackStatus'].value_counts()"
   ]
  },
  {
   "cell_type": "code",
   "execution_count": 13,
   "id": "afbe29ccb341666a",
   "metadata": {
    "ExecuteTime": {
     "end_time": "2025-03-23T11:46:49.550798Z",
     "start_time": "2025-03-23T11:46:49.538672Z"
    }
   },
   "outputs": [
    {
     "data": {
      "text/plain": [
       "Compound\n",
       "MEDIUM          509\n",
       "INTERMEDIATE    234\n",
       "SOFT            174\n",
       "HARD             44\n",
       "Name: count, dtype: int64"
      ]
     },
     "execution_count": 13,
     "metadata": {},
     "output_type": "execute_result"
    }
   ],
   "source": [
    "session.laps['Compound'].value_counts()"
   ]
  },
  {
   "cell_type": "code",
   "execution_count": 14,
   "id": "5935c5680a496da6",
   "metadata": {
    "ExecuteTime": {
     "end_time": "2025-03-23T11:46:58.171762Z",
     "start_time": "2025-03-23T11:46:58.158322Z"
    }
   },
   "outputs": [
    {
     "data": {
      "text/plain": [
       "PitInTime\n",
       "0 days 01:40:20.422000    1\n",
       "0 days 01:41:00.845000    1\n",
       "0 days 01:39:27.190000    1\n",
       "0 days 01:58:47.921000    1\n",
       "0 days 01:27:54.908000    1\n",
       "0 days 01:42:21.352000    1\n",
       "0 days 01:59:44.116000    1\n",
       "0 days 01:39:45.423000    1\n",
       "0 days 01:59:09.116000    1\n",
       "0 days 01:28:25.181000    1\n",
       "0 days 01:32:05.879000    1\n",
       "0 days 02:01:56.244000    1\n",
       "0 days 01:59:12.470000    1\n",
       "0 days 01:28:03.182000    1\n",
       "0 days 01:44:16.811000    1\n",
       "0 days 02:00:02.791000    1\n",
       "0 days 02:15:42.430000    1\n",
       "0 days 01:17:10.690000    1\n",
       "0 days 01:28:49.813000    1\n",
       "0 days 01:41:42.992000    1\n",
       "0 days 02:01:04.272000    1\n",
       "0 days 01:40:23.995000    1\n",
       "0 days 01:58:45.121000    1\n",
       "0 days 01:41:03.244000    1\n",
       "0 days 02:00:27.139000    1\n",
       "0 days 01:41:05.089000    1\n",
       "0 days 01:38:44.599000    1\n",
       "0 days 01:59:18.092000    1\n",
       "0 days 01:40:17.147000    1\n",
       "0 days 02:00:48.120000    1\n",
       "0 days 01:42:15.701000    1\n",
       "0 days 01:59:32.481000    1\n",
       "0 days 01:38:45.781000    1\n",
       "0 days 02:01:09.712000    1\n",
       "0 days 02:18:03.383000    1\n",
       "0 days 01:39:02.808000    1\n",
       "0 days 02:01:32.097000    1\n",
       "0 days 01:39:05.009000    1\n",
       "0 days 02:01:36.764000    1\n",
       "0 days 01:40:55.058000    1\n",
       "0 days 02:00:06.460000    1\n",
       "0 days 01:40:56.978000    1\n",
       "0 days 02:00:14.387000    1\n",
       "0 days 01:40:56.345000    1\n",
       "0 days 02:00:11.160000    1\n",
       "0 days 01:50:59.953000    1\n",
       "Name: count, dtype: int64"
      ]
     },
     "execution_count": 14,
     "metadata": {},
     "output_type": "execute_result"
    }
   ],
   "source": [
    "session.laps['PitInTime'].value_counts()\n",
    "#this marker could be used to determine, in which lap a driver took a pitstop, which we could visualize in the plot"
   ]
  },
  {
   "cell_type": "code",
   "execution_count": 14,
   "id": "4714d1d304e61423",
   "metadata": {
    "ExecuteTime": {
     "end_time": "2025-03-30T20:59:35.814285Z",
     "start_time": "2025-03-30T20:59:35.790285Z"
    }
   },
   "outputs": [
    {
     "name": "stdout",
     "output_type": "stream",
     "text": [
      "<class 'pandas.core.frame.DataFrame'>\n",
      "RangeIndex: 147 entries, 0 to 146\n",
      "Data columns (total 8 columns):\n",
      " #   Column         Non-Null Count  Dtype          \n",
      "---  ------         --------------  -----          \n",
      " 0   Time           147 non-null    timedelta64[ns]\n",
      " 1   AirTemp        147 non-null    float64        \n",
      " 2   Humidity       147 non-null    float64        \n",
      " 3   Pressure       147 non-null    float64        \n",
      " 4   Rainfall       147 non-null    bool           \n",
      " 5   TrackTemp      147 non-null    float64        \n",
      " 6   WindDirection  147 non-null    int64          \n",
      " 7   WindSpeed      147 non-null    float64        \n",
      "dtypes: bool(1), float64(5), int64(1), timedelta64[ns](1)\n",
      "memory usage: 8.3 KB\n"
     ]
    }
   ],
   "source": [
    "session.weather_data.info()"
   ]
  },
  {
   "cell_type": "code",
   "execution_count": 5,
   "id": "b1a6b7aa0bf2a974",
   "metadata": {
    "ExecuteTime": {
     "end_time": "2025-03-31T11:29:07.159245Z",
     "start_time": "2025-03-31T11:29:07.140604Z"
    }
   },
   "outputs": [
    {
     "data": {
      "text/html": [
       "<div>\n",
       "<style scoped>\n",
       "    .dataframe tbody tr th:only-of-type {\n",
       "        vertical-align: middle;\n",
       "    }\n",
       "\n",
       "    .dataframe tbody tr th {\n",
       "        vertical-align: top;\n",
       "    }\n",
       "\n",
       "    .dataframe thead th {\n",
       "        text-align: right;\n",
       "    }\n",
       "</style>\n",
       "<table border=\"1\" class=\"dataframe\">\n",
       "  <thead>\n",
       "    <tr style=\"text-align: right;\">\n",
       "      <th></th>\n",
       "      <th>Time</th>\n",
       "      <th>AirTemp</th>\n",
       "      <th>Humidity</th>\n",
       "      <th>Pressure</th>\n",
       "      <th>Rainfall</th>\n",
       "      <th>TrackTemp</th>\n",
       "      <th>WindDirection</th>\n",
       "      <th>WindSpeed</th>\n",
       "    </tr>\n",
       "  </thead>\n",
       "  <tbody>\n",
       "    <tr>\n",
       "      <th>0</th>\n",
       "      <td>0 days 00:00:05.091000</td>\n",
       "      <td>15.9</td>\n",
       "      <td>67.0</td>\n",
       "      <td>991.8</td>\n",
       "      <td>False</td>\n",
       "      <td>28.1</td>\n",
       "      <td>226</td>\n",
       "      <td>2.2</td>\n",
       "    </tr>\n",
       "    <tr>\n",
       "      <th>1</th>\n",
       "      <td>0 days 00:01:05.070000</td>\n",
       "      <td>15.9</td>\n",
       "      <td>66.0</td>\n",
       "      <td>991.7</td>\n",
       "      <td>False</td>\n",
       "      <td>27.6</td>\n",
       "      <td>268</td>\n",
       "      <td>1.5</td>\n",
       "    </tr>\n",
       "    <tr>\n",
       "      <th>2</th>\n",
       "      <td>0 days 00:02:05.094000</td>\n",
       "      <td>15.9</td>\n",
       "      <td>65.0</td>\n",
       "      <td>991.7</td>\n",
       "      <td>False</td>\n",
       "      <td>27.0</td>\n",
       "      <td>291</td>\n",
       "      <td>1.4</td>\n",
       "    </tr>\n",
       "    <tr>\n",
       "      <th>3</th>\n",
       "      <td>0 days 00:03:05.099000</td>\n",
       "      <td>15.9</td>\n",
       "      <td>66.0</td>\n",
       "      <td>991.8</td>\n",
       "      <td>False</td>\n",
       "      <td>27.0</td>\n",
       "      <td>195</td>\n",
       "      <td>1.1</td>\n",
       "    </tr>\n",
       "    <tr>\n",
       "      <th>4</th>\n",
       "      <td>0 days 00:04:05.097000</td>\n",
       "      <td>15.9</td>\n",
       "      <td>64.0</td>\n",
       "      <td>991.8</td>\n",
       "      <td>False</td>\n",
       "      <td>31.0</td>\n",
       "      <td>225</td>\n",
       "      <td>1.9</td>\n",
       "    </tr>\n",
       "  </tbody>\n",
       "</table>\n",
       "</div>"
      ],
      "text/plain": [
       "                    Time  AirTemp  Humidity  Pressure  Rainfall  TrackTemp  \\\n",
       "0 0 days 00:00:05.091000     15.9      67.0     991.8     False       28.1   \n",
       "1 0 days 00:01:05.070000     15.9      66.0     991.7     False       27.6   \n",
       "2 0 days 00:02:05.094000     15.9      65.0     991.7     False       27.0   \n",
       "3 0 days 00:03:05.099000     15.9      66.0     991.8     False       27.0   \n",
       "4 0 days 00:04:05.097000     15.9      64.0     991.8     False       31.0   \n",
       "\n",
       "   WindDirection  WindSpeed  \n",
       "0            226        2.2  \n",
       "1            268        1.5  \n",
       "2            291        1.4  \n",
       "3            195        1.1  \n",
       "4            225        1.9  "
      ]
     },
     "execution_count": 5,
     "metadata": {},
     "output_type": "execute_result"
    }
   ],
   "source": [
    "#check weather data\n",
    "session.weather_data.head()"
   ]
  },
  {
   "cell_type": "code",
   "execution_count": 4,
   "id": "7a0986617567b2d5",
   "metadata": {
    "ExecuteTime": {
     "end_time": "2025-03-31T11:28:52.058495Z",
     "start_time": "2025-03-31T11:28:52.044155Z"
    }
   },
   "outputs": [
    {
     "data": {
      "text/plain": [
       "Rainfall\n",
       "False    96\n",
       "True     51\n",
       "Name: count, dtype: int64"
      ]
     },
     "execution_count": 4,
     "metadata": {},
     "output_type": "execute_result"
    }
   ],
   "source": [
    "session.weather_data['Rainfall'].value_counts()"
   ]
  },
  {
   "cell_type": "code",
   "execution_count": 7,
   "id": "4cece0b13310fd64",
   "metadata": {
    "ExecuteTime": {
     "end_time": "2025-04-03T11:39:03.839812Z",
     "start_time": "2025-04-03T11:39:03.823813Z"
    }
   },
   "outputs": [
    {
     "data": {
      "text/plain": [
       "[(0, 5),\n",
       " (0, 6),\n",
       " (0, 7),\n",
       " (0, 8),\n",
       " (0, 9),\n",
       " (0, 10),\n",
       " (0, 11),\n",
       " (0, 12),\n",
       " (0, 13),\n",
       " (0, 14),\n",
       " (0, 15),\n",
       " (0, 16),\n",
       " (0, 21),\n",
       " (0, 22),\n",
       " (1, 25),\n",
       " (1, 26),\n",
       " (1, 27),\n",
       " (1, 28),\n",
       " (1, 29),\n",
       " (1, 30),\n",
       " (1, 31),\n",
       " (1, 32),\n",
       " (1, 33),\n",
       " (1, 34),\n",
       " (1, 35),\n",
       " (1, 36),\n",
       " (1, 37),\n",
       " (1, 38),\n",
       " (1, 39),\n",
       " (1, 40),\n",
       " (1, 41),\n",
       " (1, 42),\n",
       " (1, 43),\n",
       " (1, 44),\n",
       " (1, 45),\n",
       " (1, 46),\n",
       " (1, 47),\n",
       " (1, 48),\n",
       " (1, 49),\n",
       " (1, 50),\n",
       " (1, 51),\n",
       " (1, 52),\n",
       " (1, 53),\n",
       " (1, 54),\n",
       " (1, 55),\n",
       " (1, 56),\n",
       " (1, 57),\n",
       " (1, 58),\n",
       " (1, 59),\n",
       " (2, 8),\n",
       " (2, 9)]"
      ]
     },
     "execution_count": 7,
     "metadata": {},
     "output_type": "execute_result"
    }
   ],
   "source": [
    "#finding the times with rain from session weather data\n",
    "weather = session.weather_data\n",
    "\n",
    "rain_times = weather.loc[weather[\"Rainfall\"] == True, \"Time\"].apply(\n",
    "    lambda td: (td.components.hours, td.components.minutes)\n",
    ").tolist()\n",
    "rain_times"
   ]
  },
  {
   "cell_type": "code",
   "execution_count": 8,
   "id": "2467a935932484df",
   "metadata": {
    "ExecuteTime": {
     "end_time": "2025-04-03T11:39:08.377773Z",
     "start_time": "2025-04-03T11:39:08.357278Z"
    }
   },
   "outputs": [
    {
     "name": "stdout",
     "output_type": "stream",
     "text": [
      "Laps where it rained [17.0, 18.0, 19.0, 20.0, 21.0, 22.0, 23.0, 24.0, 25.0, 26.0, 27.0, 28.0, 29.0, 30.0, 31.0, 32.0, 33.0, 34.0, 35.0, 36.0, 37.0, 38.0, 42.0, 43.0, 44.0]\n"
     ]
    }
   ],
   "source": [
    "#then using this data to find out the laps where it was raining\n",
    "dat = session.laps\n",
    "\n",
    "def is_raining(td):\n",
    "    h = td.components.hours\n",
    "    m = td.components.minutes\n",
    "    return (h, m) in rain_times\n",
    "\n",
    "dat[\"Raining\"] = dat[\"Time\"].apply(is_raining)\n",
    "\n",
    "#check out laps where it was raining (with this method) just for show, this will in code be code for every row (and therefore every driver individually), as not every driver will be on the same lap at the same time\n",
    "rain_laps = sorted(dat[dat[\"Raining\"]][\"LapNumber\"].unique())\n",
    "print(\"Laps where it rained\", rain_laps)"
   ]
  },
  {
   "cell_type": "code",
   "execution_count": 24,
   "id": "3e975cadeaa037a0",
   "metadata": {
    "ExecuteTime": {
     "end_time": "2025-03-31T11:46:28.951790Z",
     "start_time": "2025-03-31T11:46:28.933694Z"
    }
   },
   "outputs": [
    {
     "name": "stdout",
     "output_type": "stream",
     "text": [
      "Laps where the track was wet: [20.0, 21.0, 22.0, 23.0, 24.0, 25.0, 26.0, 27.0, 28.0, 29.0, 30.0, 31.0, 32.0, 33.0, 34.0, 35.0, 36.0, 37.0, 38.0, 39.0]\n"
     ]
    }
   ],
   "source": [
    "#alternative to find out the laps where it was \"raining\" (or \"the track was wet\") as every lap where at least one driver was on intermediate or wet tyres. but method with official weather data from above shall be used as its more accurate\n",
    "dat = session.laps\n",
    "rain_tires = ['INTERMEDIATE', 'WET']\n",
    "\n",
    "#Filter rows where tire is among these\n",
    "rain_laps = sorted(dat[dat['Compound'].isin(rain_tires)]['LapNumber'].unique())\n",
    "print(\"Laps where the track was wet:\", rain_laps)\n",
    "\n",
    "#add this information into every lap in the dataframe\n",
    "dat['Wet_Track'] = dat['LapNumber'].isin(rain_laps)"
   ]
  },
  {
   "cell_type": "code",
   "execution_count": 53,
   "id": "1d8f5ae7057683ab",
   "metadata": {
    "ExecuteTime": {
     "end_time": "2025-04-03T15:45:38.624535Z",
     "start_time": "2025-04-03T15:45:38.241878Z"
    }
   },
   "outputs": [
    {
     "data": {
      "image/png": "[encoded data removed]",
      "text/plain": [
       "<Figure size 800x800 with 1 Axes>"
      ]
     },
     "metadata": {},
     "output_type": "display_data"
    }
   ],
   "source": [
    "#experiment with and build laps scatterplot for use in our project\n",
    "#scatterplot driver laptimes\n",
    "import seaborn as sns\n",
    "from matplotlib import pyplot as plt\n",
    "import fastf1.plotting\n",
    "\n",
    "drivers_abbr = [\"HAM\"]\n",
    "\n",
    "#plotting setup as given in documentation\n",
    "fastf1.plotting.setup_mpl(mpl_timedelta_support=True, misc_mpl_mods=False,\n",
    "                          color_scheme='fastf1')\n",
    "\n",
    "#for exploration purposes, we will adapt the documentations example code and not filter out the slow laps\n",
    "driver_laps = dat.pick_drivers(drivers_abbr).reset_index(drop=True)\n",
    "\n",
    "#Make the scattterplot using lap number as x-axis and lap time as y-axis. Marker colors correspond to the compounds used. Note: as LapTime is represented by timedelta, calling setup_mpl earlier is required.\n",
    "\n",
    "fig, ax = plt.subplots(figsize=(8, 8))\n",
    "\n",
    "sns.scatterplot(data=driver_laps, x=\"LapNumber\", y=\"LapTime\", ax=ax, hue=\"Compound\",\n",
    "                palette=fastf1.plotting.get_compound_mapping(session=session),\n",
    "                s=100, linewidth=0, legend='auto')\n",
    "\n",
    "#Make the plot more aesthetic.\n",
    "ax.set_xlabel(\"Lap Number\")\n",
    "ax.set_ylabel(\"Lap Time\")\n",
    "\n",
    "# The y-axis increases from bottom to top by default\n",
    "# Since we are plotting time, it makes sense to invert the axis\n",
    "ax.invert_yaxis()\n",
    "fig.suptitle(\"2024 British Grand Prix\")\n",
    "\n",
    "# Turn on major grid lines\n",
    "ax.grid(color='w', which='major', axis='both', alpha=0.3)\n",
    "sns.despine(left=True, bottom=True)\n",
    "\n",
    "plt.tight_layout()\n",
    "plt.show()"
   ]
  },
  {
   "cell_type": "code",
   "execution_count": 13,
   "id": "947dad69c440c81b",
   "metadata": {
    "ExecuteTime": {
     "end_time": "2025-04-03T11:46:07.326440Z",
     "start_time": "2025-04-03T11:46:07.294376Z"
    }
   },
   "outputs": [
    {
     "data": {
      "text/html": [
       "<div>\n",
       "<style scoped>\n",
       "    .dataframe tbody tr th:only-of-type {\n",
       "        vertical-align: middle;\n",
       "    }\n",
       "\n",
       "    .dataframe tbody tr th {\n",
       "        vertical-align: top;\n",
       "    }\n",
       "\n",
       "    .dataframe thead th {\n",
       "        text-align: right;\n",
       "    }\n",
       "</style>\n",
       "<table border=\"1\" class=\"dataframe\">\n",
       "  <thead>\n",
       "    <tr style=\"text-align: right;\">\n",
       "      <th></th>\n",
       "      <th>Time</th>\n",
       "      <th>Driver</th>\n",
       "      <th>DriverNumber</th>\n",
       "      <th>LapTime</th>\n",
       "      <th>LapNumber</th>\n",
       "      <th>Stint</th>\n",
       "      <th>PitOutTime</th>\n",
       "      <th>PitInTime</th>\n",
       "      <th>Sector1Time</th>\n",
       "      <th>Sector2Time</th>\n",
       "      <th>...</th>\n",
       "      <th>FreshTyre</th>\n",
       "      <th>Team</th>\n",
       "      <th>LapStartTime</th>\n",
       "      <th>LapStartDate</th>\n",
       "      <th>TrackStatus</th>\n",
       "      <th>Position</th>\n",
       "      <th>Deleted</th>\n",
       "      <th>DeletedReason</th>\n",
       "      <th>FastF1Generated</th>\n",
       "      <th>IsAccurate</th>\n",
       "    </tr>\n",
       "  </thead>\n",
       "  <tbody>\n",
       "    <tr>\n",
       "      <th>364</th>\n",
       "      <td>0 days 00:59:56.218000</td>\n",
       "      <td>ALO</td>\n",
       "      <td>14</td>\n",
       "      <td>0 days 00:01:40.474000</td>\n",
       "      <td>1.0</td>\n",
       "      <td>1.0</td>\n",
       "      <td>NaT</td>\n",
       "      <td>NaT</td>\n",
       "      <td>NaT</td>\n",
       "      <td>0 days 00:00:39.024000</td>\n",
       "      <td>...</td>\n",
       "      <td>True</td>\n",
       "      <td>Aston Martin</td>\n",
       "      <td>0 days 00:58:15.512000</td>\n",
       "      <td>2024-07-07 14:03:12.541</td>\n",
       "      <td>1</td>\n",
       "      <td>11.0</td>\n",
       "      <td>False</td>\n",
       "      <td></td>\n",
       "      <td>False</td>\n",
       "      <td>False</td>\n",
       "    </tr>\n",
       "    <tr>\n",
       "      <th>365</th>\n",
       "      <td>0 days 01:01:29.420000</td>\n",
       "      <td>ALO</td>\n",
       "      <td>14</td>\n",
       "      <td>0 days 00:01:33.202000</td>\n",
       "      <td>2.0</td>\n",
       "      <td>1.0</td>\n",
       "      <td>NaT</td>\n",
       "      <td>NaT</td>\n",
       "      <td>0 days 00:00:29.547000</td>\n",
       "      <td>0 days 00:00:38.343000</td>\n",
       "      <td>...</td>\n",
       "      <td>True</td>\n",
       "      <td>Aston Martin</td>\n",
       "      <td>0 days 00:59:56.218000</td>\n",
       "      <td>2024-07-07 14:04:53.247</td>\n",
       "      <td>1</td>\n",
       "      <td>10.0</td>\n",
       "      <td>False</td>\n",
       "      <td></td>\n",
       "      <td>False</td>\n",
       "      <td>True</td>\n",
       "    </tr>\n",
       "    <tr>\n",
       "      <th>366</th>\n",
       "      <td>0 days 01:03:02.371000</td>\n",
       "      <td>ALO</td>\n",
       "      <td>14</td>\n",
       "      <td>0 days 00:01:32.951000</td>\n",
       "      <td>3.0</td>\n",
       "      <td>1.0</td>\n",
       "      <td>NaT</td>\n",
       "      <td>NaT</td>\n",
       "      <td>0 days 00:00:29.481000</td>\n",
       "      <td>0 days 00:00:38.035000</td>\n",
       "      <td>...</td>\n",
       "      <td>True</td>\n",
       "      <td>Aston Martin</td>\n",
       "      <td>0 days 01:01:29.420000</td>\n",
       "      <td>2024-07-07 14:06:26.449</td>\n",
       "      <td>1</td>\n",
       "      <td>10.0</td>\n",
       "      <td>False</td>\n",
       "      <td></td>\n",
       "      <td>False</td>\n",
       "      <td>True</td>\n",
       "    </tr>\n",
       "    <tr>\n",
       "      <th>367</th>\n",
       "      <td>0 days 01:04:35.563000</td>\n",
       "      <td>ALO</td>\n",
       "      <td>14</td>\n",
       "      <td>0 days 00:01:33.192000</td>\n",
       "      <td>4.0</td>\n",
       "      <td>1.0</td>\n",
       "      <td>NaT</td>\n",
       "      <td>NaT</td>\n",
       "      <td>0 days 00:00:29.728000</td>\n",
       "      <td>0 days 00:00:37.816000</td>\n",
       "      <td>...</td>\n",
       "      <td>True</td>\n",
       "      <td>Aston Martin</td>\n",
       "      <td>0 days 01:03:02.371000</td>\n",
       "      <td>2024-07-07 14:07:59.400</td>\n",
       "      <td>1</td>\n",
       "      <td>10.0</td>\n",
       "      <td>False</td>\n",
       "      <td></td>\n",
       "      <td>False</td>\n",
       "      <td>True</td>\n",
       "    </tr>\n",
       "    <tr>\n",
       "      <th>368</th>\n",
       "      <td>0 days 01:06:08.180000</td>\n",
       "      <td>ALO</td>\n",
       "      <td>14</td>\n",
       "      <td>0 days 00:01:32.617000</td>\n",
       "      <td>5.0</td>\n",
       "      <td>1.0</td>\n",
       "      <td>NaT</td>\n",
       "      <td>NaT</td>\n",
       "      <td>0 days 00:00:29.488000</td>\n",
       "      <td>0 days 00:00:37.643000</td>\n",
       "      <td>...</td>\n",
       "      <td>True</td>\n",
       "      <td>Aston Martin</td>\n",
       "      <td>0 days 01:04:35.563000</td>\n",
       "      <td>2024-07-07 14:09:32.592</td>\n",
       "      <td>1</td>\n",
       "      <td>10.0</td>\n",
       "      <td>False</td>\n",
       "      <td></td>\n",
       "      <td>False</td>\n",
       "      <td>True</td>\n",
       "    </tr>\n",
       "  </tbody>\n",
       "</table>\n",
       "<p>5 rows × 31 columns</p>\n",
       "</div>"
      ],
      "text/plain": [
       "                      Time Driver DriverNumber                LapTime  \\\n",
       "364 0 days 00:59:56.218000    ALO           14 0 days 00:01:40.474000   \n",
       "365 0 days 01:01:29.420000    ALO           14 0 days 00:01:33.202000   \n",
       "366 0 days 01:03:02.371000    ALO           14 0 days 00:01:32.951000   \n",
       "367 0 days 01:04:35.563000    ALO           14 0 days 00:01:33.192000   \n",
       "368 0 days 01:06:08.180000    ALO           14 0 days 00:01:32.617000   \n",
       "\n",
       "     LapNumber  Stint PitOutTime PitInTime            Sector1Time  \\\n",
       "364        1.0    1.0        NaT       NaT                    NaT   \n",
       "365        2.0    1.0        NaT       NaT 0 days 00:00:29.547000   \n",
       "366        3.0    1.0        NaT       NaT 0 days 00:00:29.481000   \n",
       "367        4.0    1.0        NaT       NaT 0 days 00:00:29.728000   \n",
       "368        5.0    1.0        NaT       NaT 0 days 00:00:29.488000   \n",
       "\n",
       "               Sector2Time  ... FreshTyre          Team  \\\n",
       "364 0 days 00:00:39.024000  ...      True  Aston Martin   \n",
       "365 0 days 00:00:38.343000  ...      True  Aston Martin   \n",
       "366 0 days 00:00:38.035000  ...      True  Aston Martin   \n",
       "367 0 days 00:00:37.816000  ...      True  Aston Martin   \n",
       "368 0 days 00:00:37.643000  ...      True  Aston Martin   \n",
       "\n",
       "              LapStartTime            LapStartDate  TrackStatus  Position  \\\n",
       "364 0 days 00:58:15.512000 2024-07-07 14:03:12.541            1      11.0   \n",
       "365 0 days 00:59:56.218000 2024-07-07 14:04:53.247            1      10.0   \n",
       "366 0 days 01:01:29.420000 2024-07-07 14:06:26.449            1      10.0   \n",
       "367 0 days 01:03:02.371000 2024-07-07 14:07:59.400            1      10.0   \n",
       "368 0 days 01:04:35.563000 2024-07-07 14:09:32.592            1      10.0   \n",
       "\n",
       "     Deleted  DeletedReason  FastF1Generated IsAccurate  \n",
       "364    False                           False      False  \n",
       "365    False                           False       True  \n",
       "366    False                           False       True  \n",
       "367    False                           False       True  \n",
       "368    False                           False       True  \n",
       "\n",
       "[5 rows x 31 columns]"
      ]
     },
     "execution_count": 13,
     "metadata": {},
     "output_type": "execute_result"
    }
   ],
   "source": [
    "#check what driver_laps looks like\n",
    "driver_laps.head()"
   ]
  },
  {
   "cell_type": "code",
   "execution_count": 15,
   "id": "3f8e0ec6a1fa2e82",
   "metadata": {
    "ExecuteTime": {
     "end_time": "2025-04-03T11:46:31.305484Z",
     "start_time": "2025-04-03T11:46:31.295424Z"
    }
   },
   "outputs": [
    {
     "data": {
      "text/plain": [
       "Index(['Time', 'Driver', 'DriverNumber', 'LapTime', 'LapNumber', 'Stint',\n",
       "       'PitOutTime', 'PitInTime', 'Sector1Time', 'Sector2Time', 'Sector3Time',\n",
       "       'Sector1SessionTime', 'Sector2SessionTime', 'Sector3SessionTime',\n",
       "       'SpeedI1', 'SpeedI2', 'SpeedFL', 'SpeedST', 'IsPersonalBest',\n",
       "       'Compound', 'TyreLife', 'FreshTyre', 'Team', 'LapStartTime',\n",
       "       'LapStartDate', 'TrackStatus', 'Position', 'Deleted', 'DeletedReason',\n",
       "       'FastF1Generated', 'IsAccurate'],\n",
       "      dtype='object')"
      ]
     },
     "execution_count": 15,
     "metadata": {},
     "output_type": "execute_result"
    }
   ],
   "source": [
    "driver_laps.columns"
   ]
  },
  {
   "cell_type": "code",
   "execution_count": null,
   "id": "56a2a21d3504ae27",
   "metadata": {},
   "outputs": [],
   "source": [
    "#we have seen the many warnings are generated by the fastf1 package, can if needed be suppressed with:\n",
    "import warnings\n",
    "warnings.filterwarnings('ignore')"
   ]
  }
 ],
 "metadata": {
  "kernelspec": {
   "display_name": "Python 3 (ipykernel)",
   "language": "python",
   "name": "python3"
  },
  "language_info": {
   "codemirror_mode": {
    "name": "ipython",
    "version": 3
   },
   "file_extension": ".py",
   "mimetype": "text/x-python",
   "name": "python",
   "nbconvert_exporter": "python",
   "pygments_lexer": "ipython3",
   "version": "3.11.4"
  }
 },
 "nbformat": 4,
 "nbformat_minor": 5
}
