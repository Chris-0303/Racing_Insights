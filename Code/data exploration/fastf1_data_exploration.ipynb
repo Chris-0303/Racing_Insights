{
 "cells": [
  {
   "cell_type": "code",
   "execution_count": 1,
   "id": "initial_id",
   "metadata": {
    "collapsed": true,
    "ExecuteTime": {
     "end_time": "2025-05-27T10:56:57.065178300Z",
     "start_time": "2025-05-27T10:56:56.420088700Z"
    }
   },
   "outputs": [],
   "source": [
    "import fastf1\n",
    "import pandas as pd\n",
    "from datetime import date"
   ]
  },
  {
   "cell_type": "code",
   "execution_count": 2,
   "id": "e47f1afdbc97f1bc",
   "metadata": {
    "ExecuteTime": {
     "end_time": "2025-05-27T10:56:57.146707300Z",
     "start_time": "2025-05-27T10:56:57.069213800Z"
    }
   },
   "outputs": [
    {
     "name": "stderr",
     "output_type": "stream",
     "text": [
      "req         WARNING \tDEFAULT CACHE ENABLED! (98.08 MB) C:\\Users\\nelly\\AppData\\Local\\Temp\\fastf1\n"
     ]
    },
    {
     "data": {
      "text/plain": "   RoundNumber       Country   Location  \\\n1            1       Bahrain     Sakhir   \n2            2  Saudi Arabia     Jeddah   \n3            3     Australia  Melbourne   \n4            4         Japan     Suzuka   \n5            5         China   Shanghai   \n\n                                OfficialEventName  EventDate  \\\n1      FORMULA 1 GULF AIR BAHRAIN GRAND PRIX 2024 2024-03-02   \n2     FORMULA 1 STC SAUDI ARABIAN GRAND PRIX 2024 2024-03-09   \n3      FORMULA 1 ROLEX AUSTRALIAN GRAND PRIX 2024 2024-03-24   \n4  FORMULA 1 MSC CRUISES JAPANESE GRAND PRIX 2024 2024-04-07   \n5        FORMULA 1 LENOVO CHINESE GRAND PRIX 2024 2024-04-21   \n\n                  EventName        EventFormat    Session1  \\\n1        Bahrain Grand Prix       conventional  Practice 1   \n2  Saudi Arabian Grand Prix       conventional  Practice 1   \n3     Australian Grand Prix       conventional  Practice 1   \n4       Japanese Grand Prix       conventional  Practice 1   \n5        Chinese Grand Prix  sprint_qualifying  Practice 1   \n\n                Session1Date     Session1DateUtc  ...    Session3  \\\n1  2024-02-29 14:30:00+03:00 2024-02-29 11:30:00  ...  Practice 3   \n2  2024-03-07 16:30:00+03:00 2024-03-07 13:30:00  ...  Practice 3   \n3  2024-03-22 12:30:00+11:00 2024-03-22 01:30:00  ...  Practice 3   \n4  2024-04-05 11:30:00+09:00 2024-04-05 02:30:00  ...  Practice 3   \n5  2024-04-19 11:30:00+08:00 2024-04-19 03:30:00  ...      Sprint   \n\n                Session3Date     Session3DateUtc    Session4  \\\n1  2024-03-01 15:30:00+03:00 2024-03-01 12:30:00  Qualifying   \n2  2024-03-08 16:30:00+03:00 2024-03-08 13:30:00  Qualifying   \n3  2024-03-23 12:30:00+11:00 2024-03-23 01:30:00  Qualifying   \n4  2024-04-06 11:30:00+09:00 2024-04-06 02:30:00  Qualifying   \n5  2024-04-20 11:00:00+08:00 2024-04-20 03:00:00  Qualifying   \n\n                Session4Date     Session4DateUtc Session5  \\\n1  2024-03-01 19:00:00+03:00 2024-03-01 16:00:00     Race   \n2  2024-03-08 20:00:00+03:00 2024-03-08 17:00:00     Race   \n3  2024-03-23 16:00:00+11:00 2024-03-23 05:00:00     Race   \n4  2024-04-06 15:00:00+09:00 2024-04-06 06:00:00     Race   \n5  2024-04-20 15:00:00+08:00 2024-04-20 07:00:00     Race   \n\n                Session5Date     Session5DateUtc F1ApiSupport  \n1  2024-03-02 18:00:00+03:00 2024-03-02 15:00:00         True  \n2  2024-03-09 20:00:00+03:00 2024-03-09 17:00:00         True  \n3  2024-03-24 15:00:00+11:00 2024-03-24 04:00:00         True  \n4  2024-04-07 14:00:00+09:00 2024-04-07 05:00:00         True  \n5  2024-04-21 15:00:00+08:00 2024-04-21 07:00:00         True  \n\n[5 rows x 23 columns]",
      "text/html": "<div>\n<style scoped>\n    .dataframe tbody tr th:only-of-type {\n        vertical-align: middle;\n    }\n\n    .dataframe tbody tr th {\n        vertical-align: top;\n    }\n\n    .dataframe thead th {\n        text-align: right;\n    }\n</style>\n<table border=\"1\" class=\"dataframe\">\n  <thead>\n    <tr style=\"text-align: right;\">\n      <th></th>\n      <th>RoundNumber</th>\n      <th>Country</th>\n      <th>Location</th>\n      <th>OfficialEventName</th>\n      <th>EventDate</th>\n      <th>EventName</th>\n      <th>EventFormat</th>\n      <th>Session1</th>\n      <th>Session1Date</th>\n      <th>Session1DateUtc</th>\n      <th>...</th>\n      <th>Session3</th>\n      <th>Session3Date</th>\n      <th>Session3DateUtc</th>\n      <th>Session4</th>\n      <th>Session4Date</th>\n      <th>Session4DateUtc</th>\n      <th>Session5</th>\n      <th>Session5Date</th>\n      <th>Session5DateUtc</th>\n      <th>F1ApiSupport</th>\n    </tr>\n  </thead>\n  <tbody>\n    <tr>\n      <th>1</th>\n      <td>1</td>\n      <td>Bahrain</td>\n      <td>Sakhir</td>\n      <td>FORMULA 1 GULF AIR BAHRAIN GRAND PRIX 2024</td>\n      <td>2024-03-02</td>\n      <td>Bahrain Grand Prix</td>\n      <td>conventional</td>\n      <td>Practice 1</td>\n      <td>2024-02-29 14:30:00+03:00</td>\n      <td>2024-02-29 11:30:00</td>\n      <td>...</td>\n      <td>Practice 3</td>\n      <td>2024-03-01 15:30:00+03:00</td>\n      <td>2024-03-01 12:30:00</td>\n      <td>Qualifying</td>\n      <td>2024-03-01 19:00:00+03:00</td>\n      <td>2024-03-01 16:00:00</td>\n      <td>Race</td>\n      <td>2024-03-02 18:00:00+03:00</td>\n      <td>2024-03-02 15:00:00</td>\n      <td>True</td>\n    </tr>\n    <tr>\n      <th>2</th>\n      <td>2</td>\n      <td>Saudi Arabia</td>\n      <td>Jeddah</td>\n      <td>FORMULA 1 STC SAUDI ARABIAN GRAND PRIX 2024</td>\n      <td>2024-03-09</td>\n      <td>Saudi Arabian Grand Prix</td>\n      <td>conventional</td>\n      <td>Practice 1</td>\n      <td>2024-03-07 16:30:00+03:00</td>\n      <td>2024-03-07 13:30:00</td>\n      <td>...</td>\n      <td>Practice 3</td>\n      <td>2024-03-08 16:30:00+03:00</td>\n      <td>2024-03-08 13:30:00</td>\n      <td>Qualifying</td>\n      <td>2024-03-08 20:00:00+03:00</td>\n      <td>2024-03-08 17:00:00</td>\n      <td>Race</td>\n      <td>2024-03-09 20:00:00+03:00</td>\n      <td>2024-03-09 17:00:00</td>\n      <td>True</td>\n    </tr>\n    <tr>\n      <th>3</th>\n      <td>3</td>\n      <td>Australia</td>\n      <td>Melbourne</td>\n      <td>FORMULA 1 ROLEX AUSTRALIAN GRAND PRIX 2024</td>\n      <td>2024-03-24</td>\n      <td>Australian Grand Prix</td>\n      <td>conventional</td>\n      <td>Practice 1</td>\n      <td>2024-03-22 12:30:00+11:00</td>\n      <td>2024-03-22 01:30:00</td>\n      <td>...</td>\n      <td>Practice 3</td>\n      <td>2024-03-23 12:30:00+11:00</td>\n      <td>2024-03-23 01:30:00</td>\n      <td>Qualifying</td>\n      <td>2024-03-23 16:00:00+11:00</td>\n      <td>2024-03-23 05:00:00</td>\n      <td>Race</td>\n      <td>2024-03-24 15:00:00+11:00</td>\n      <td>2024-03-24 04:00:00</td>\n      <td>True</td>\n    </tr>\n    <tr>\n      <th>4</th>\n      <td>4</td>\n      <td>Japan</td>\n      <td>Suzuka</td>\n      <td>FORMULA 1 MSC CRUISES JAPANESE GRAND PRIX 2024</td>\n      <td>2024-04-07</td>\n      <td>Japanese Grand Prix</td>\n      <td>conventional</td>\n      <td>Practice 1</td>\n      <td>2024-04-05 11:30:00+09:00</td>\n      <td>2024-04-05 02:30:00</td>\n      <td>...</td>\n      <td>Practice 3</td>\n      <td>2024-04-06 11:30:00+09:00</td>\n      <td>2024-04-06 02:30:00</td>\n      <td>Qualifying</td>\n      <td>2024-04-06 15:00:00+09:00</td>\n      <td>2024-04-06 06:00:00</td>\n      <td>Race</td>\n      <td>2024-04-07 14:00:00+09:00</td>\n      <td>2024-04-07 05:00:00</td>\n      <td>True</td>\n    </tr>\n    <tr>\n      <th>5</th>\n      <td>5</td>\n      <td>China</td>\n      <td>Shanghai</td>\n      <td>FORMULA 1 LENOVO CHINESE GRAND PRIX 2024</td>\n      <td>2024-04-21</td>\n      <td>Chinese Grand Prix</td>\n      <td>sprint_qualifying</td>\n      <td>Practice 1</td>\n      <td>2024-04-19 11:30:00+08:00</td>\n      <td>2024-04-19 03:30:00</td>\n      <td>...</td>\n      <td>Sprint</td>\n      <td>2024-04-20 11:00:00+08:00</td>\n      <td>2024-04-20 03:00:00</td>\n      <td>Qualifying</td>\n      <td>2024-04-20 15:00:00+08:00</td>\n      <td>2024-04-20 07:00:00</td>\n      <td>Race</td>\n      <td>2024-04-21 15:00:00+08:00</td>\n      <td>2024-04-21 07:00:00</td>\n      <td>True</td>\n    </tr>\n  </tbody>\n</table>\n<p>5 rows × 23 columns</p>\n</div>"
     },
     "execution_count": 2,
     "metadata": {},
     "output_type": "execute_result"
    }
   ],
   "source": [
    "#load event calendar for 2024 without testing\n",
    "calendar = fastf1.get_event_schedule(2024, include_testing=False)\n",
    "calendar.head()"
   ]
  },
  {
   "cell_type": "code",
   "execution_count": 3,
   "id": "61fd607dddbcf812",
   "metadata": {
    "ExecuteTime": {
     "end_time": "2025-05-27T10:56:57.158069Z",
     "start_time": "2025-05-27T10:56:57.140025900Z"
    }
   },
   "outputs": [
    {
     "data": {
      "text/plain": "Index(['RoundNumber', 'Country', 'Location', 'OfficialEventName', 'EventDate',\n       'EventName', 'EventFormat', 'Session1', 'Session1Date',\n       'Session1DateUtc', 'Session2', 'Session2Date', 'Session2DateUtc',\n       'Session3', 'Session3Date', 'Session3DateUtc', 'Session4',\n       'Session4Date', 'Session4DateUtc', 'Session5', 'Session5Date',\n       'Session5DateUtc', 'F1ApiSupport'],\n      dtype='object')"
     },
     "execution_count": 3,
     "metadata": {},
     "output_type": "execute_result"
    }
   ],
   "source": [
    "calendar.columns"
   ]
  },
  {
   "cell_type": "code",
   "execution_count": 4,
   "id": "b4e371b089be5463",
   "metadata": {
    "ExecuteTime": {
     "end_time": "2025-05-27T10:56:57.215449400Z",
     "start_time": "2025-05-27T10:56:57.157065400Z"
    }
   },
   "outputs": [
    {
     "data": {
      "text/plain": "(24, 23)"
     },
     "execution_count": 4,
     "metadata": {},
     "output_type": "execute_result"
    }
   ],
   "source": [
    "calendar.shape #nrows, ncols"
   ]
  },
  {
   "cell_type": "code",
   "execution_count": 5,
   "id": "5bd03c8a1711137c",
   "metadata": {
    "ExecuteTime": {
     "end_time": "2025-05-27T10:56:57.308442500Z",
     "start_time": "2025-05-27T10:56:57.172822300Z"
    }
   },
   "outputs": [
    {
     "name": "stdout",
     "output_type": "stream",
     "text": [
      "<class 'fastf1.events.EventSchedule'>\n",
      "Index: 24 entries, 1 to 24\n",
      "Data columns (total 23 columns):\n",
      " #   Column             Non-Null Count  Dtype         \n",
      "---  ------             --------------  -----         \n",
      " 0   RoundNumber        24 non-null     int64         \n",
      " 1   Country            24 non-null     object        \n",
      " 2   Location           24 non-null     object        \n",
      " 3   OfficialEventName  24 non-null     object        \n",
      " 4   EventDate          24 non-null     datetime64[ns]\n",
      " 5   EventName          24 non-null     object        \n",
      " 6   EventFormat        24 non-null     object        \n",
      " 7   Session1           24 non-null     object        \n",
      " 8   Session1Date       24 non-null     object        \n",
      " 9   Session1DateUtc    24 non-null     datetime64[ns]\n",
      " 10  Session2           24 non-null     object        \n",
      " 11  Session2Date       24 non-null     object        \n",
      " 12  Session2DateUtc    24 non-null     datetime64[ns]\n",
      " 13  Session3           24 non-null     object        \n",
      " 14  Session3Date       24 non-null     object        \n",
      " 15  Session3DateUtc    24 non-null     datetime64[ns]\n",
      " 16  Session4           24 non-null     object        \n",
      " 17  Session4Date       24 non-null     object        \n",
      " 18  Session4DateUtc    24 non-null     datetime64[ns]\n",
      " 19  Session5           24 non-null     object        \n",
      " 20  Session5Date       24 non-null     object        \n",
      " 21  Session5DateUtc    24 non-null     datetime64[ns]\n",
      " 22  F1ApiSupport       24 non-null     bool          \n",
      "dtypes: bool(1), datetime64[ns](6), int64(1), object(15)\n",
      "memory usage: 4.3+ KB\n"
     ]
    }
   ],
   "source": [
    "calendar.info()"
   ]
  },
  {
   "cell_type": "code",
   "execution_count": 6,
   "id": "8fa6506100f3725f",
   "metadata": {
    "ExecuteTime": {
     "end_time": "2025-05-27T10:56:57.310441700Z",
     "start_time": "2025-05-27T10:56:57.203416800Z"
    }
   },
   "outputs": [
    {
     "data": {
      "text/plain": "1            Bahrain Grand Prix\n2      Saudi Arabian Grand Prix\n3         Australian Grand Prix\n4           Japanese Grand Prix\n5            Chinese Grand Prix\n6              Miami Grand Prix\n7     Emilia Romagna Grand Prix\n8             Monaco Grand Prix\n9           Canadian Grand Prix\n10           Spanish Grand Prix\n11          Austrian Grand Prix\n12           British Grand Prix\n13         Hungarian Grand Prix\n14           Belgian Grand Prix\n15             Dutch Grand Prix\n16           Italian Grand Prix\n17        Azerbaijan Grand Prix\n18         Singapore Grand Prix\n19     United States Grand Prix\n20       Mexico City Grand Prix\n21         São Paulo Grand Prix\n22         Las Vegas Grand Prix\n23             Qatar Grand Prix\n24         Abu Dhabi Grand Prix\nName: EventName, dtype: object"
     },
     "execution_count": 6,
     "metadata": {},
     "output_type": "execute_result"
    }
   ],
   "source": [
    "#list all events\n",
    "calendar['EventName']"
   ]
  },
  {
   "cell_type": "code",
   "execution_count": 7,
   "id": "f40af57c0bda3ddf",
   "metadata": {
    "ExecuteTime": {
     "end_time": "2025-05-27T10:56:57.473449900Z",
     "start_time": "2025-05-27T10:56:57.221643Z"
    }
   },
   "outputs": [
    {
     "data": {
      "text/plain": "   RoundNumber       Country   Location  \\\n1            1     Australia  Melbourne   \n2            2         China   Shanghai   \n3            3         Japan     Suzuka   \n4            4       Bahrain     Sakhir   \n5            5  Saudi Arabia     Jeddah   \n\n                                   OfficialEventName  EventDate  \\\n1  FORMULA 1 LOUIS VUITTON AUSTRALIAN GRAND PRIX ... 2025-03-16   \n2         FORMULA 1 HEINEKEN CHINESE GRAND PRIX 2025 2025-03-23   \n3         FORMULA 1 LENOVO JAPANESE GRAND PRIX 2025  2025-04-06   \n4         FORMULA 1 GULF AIR BAHRAIN GRAND PRIX 2025 2025-04-13   \n5        FORMULA 1 STC SAUDI ARABIAN GRAND PRIX 2025 2025-04-20   \n\n                  EventName        EventFormat    Session1  \\\n1     Australian Grand Prix       conventional  Practice 1   \n2        Chinese Grand Prix  sprint_qualifying  Practice 1   \n3       Japanese Grand Prix       conventional  Practice 1   \n4        Bahrain Grand Prix       conventional  Practice 1   \n5  Saudi Arabian Grand Prix       conventional  Practice 1   \n\n                Session1Date     Session1DateUtc  ...    Session3  \\\n1  2025-03-14 12:30:00+11:00 2025-03-14 01:30:00  ...  Practice 3   \n2  2025-03-21 11:30:00+08:00 2025-03-21 03:30:00  ...      Sprint   \n3  2025-04-04 11:30:00+09:00 2025-04-04 02:30:00  ...  Practice 3   \n4  2025-04-11 14:30:00+03:00 2025-04-11 11:30:00  ...  Practice 3   \n5  2025-04-18 16:30:00+03:00 2025-04-18 13:30:00  ...  Practice 3   \n\n                Session3Date     Session3DateUtc    Session4  \\\n1  2025-03-15 12:30:00+11:00 2025-03-15 01:30:00  Qualifying   \n2  2025-03-22 11:00:00+08:00 2025-03-22 03:00:00  Qualifying   \n3  2025-04-05 11:30:00+09:00 2025-04-05 02:30:00  Qualifying   \n4  2025-04-12 15:30:00+03:00 2025-04-12 12:30:00  Qualifying   \n5  2025-04-19 16:30:00+03:00 2025-04-19 13:30:00  Qualifying   \n\n                Session4Date     Session4DateUtc Session5  \\\n1  2025-03-15 16:00:00+11:00 2025-03-15 05:00:00     Race   \n2  2025-03-22 15:00:00+08:00 2025-03-22 07:00:00     Race   \n3  2025-04-05 15:00:00+09:00 2025-04-05 06:00:00     Race   \n4  2025-04-12 19:00:00+03:00 2025-04-12 16:00:00     Race   \n5  2025-04-19 20:00:00+03:00 2025-04-19 17:00:00     Race   \n\n                Session5Date     Session5DateUtc F1ApiSupport  \n1  2025-03-16 15:00:00+11:00 2025-03-16 04:00:00         True  \n2  2025-03-23 15:00:00+08:00 2025-03-23 07:00:00         True  \n3  2025-04-06 14:00:00+09:00 2025-04-06 05:00:00         True  \n4  2025-04-13 18:00:00+03:00 2025-04-13 15:00:00         True  \n5  2025-04-20 20:00:00+03:00 2025-04-20 17:00:00         True  \n\n[5 rows x 23 columns]",
      "text/html": "<div>\n<style scoped>\n    .dataframe tbody tr th:only-of-type {\n        vertical-align: middle;\n    }\n\n    .dataframe tbody tr th {\n        vertical-align: top;\n    }\n\n    .dataframe thead th {\n        text-align: right;\n    }\n</style>\n<table border=\"1\" class=\"dataframe\">\n  <thead>\n    <tr style=\"text-align: right;\">\n      <th></th>\n      <th>RoundNumber</th>\n      <th>Country</th>\n      <th>Location</th>\n      <th>OfficialEventName</th>\n      <th>EventDate</th>\n      <th>EventName</th>\n      <th>EventFormat</th>\n      <th>Session1</th>\n      <th>Session1Date</th>\n      <th>Session1DateUtc</th>\n      <th>...</th>\n      <th>Session3</th>\n      <th>Session3Date</th>\n      <th>Session3DateUtc</th>\n      <th>Session4</th>\n      <th>Session4Date</th>\n      <th>Session4DateUtc</th>\n      <th>Session5</th>\n      <th>Session5Date</th>\n      <th>Session5DateUtc</th>\n      <th>F1ApiSupport</th>\n    </tr>\n  </thead>\n  <tbody>\n    <tr>\n      <th>1</th>\n      <td>1</td>\n      <td>Australia</td>\n      <td>Melbourne</td>\n      <td>FORMULA 1 LOUIS VUITTON AUSTRALIAN GRAND PRIX ...</td>\n      <td>2025-03-16</td>\n      <td>Australian Grand Prix</td>\n      <td>conventional</td>\n      <td>Practice 1</td>\n      <td>2025-03-14 12:30:00+11:00</td>\n      <td>2025-03-14 01:30:00</td>\n      <td>...</td>\n      <td>Practice 3</td>\n      <td>2025-03-15 12:30:00+11:00</td>\n      <td>2025-03-15 01:30:00</td>\n      <td>Qualifying</td>\n      <td>2025-03-15 16:00:00+11:00</td>\n      <td>2025-03-15 05:00:00</td>\n      <td>Race</td>\n      <td>2025-03-16 15:00:00+11:00</td>\n      <td>2025-03-16 04:00:00</td>\n      <td>True</td>\n    </tr>\n    <tr>\n      <th>2</th>\n      <td>2</td>\n      <td>China</td>\n      <td>Shanghai</td>\n      <td>FORMULA 1 HEINEKEN CHINESE GRAND PRIX 2025</td>\n      <td>2025-03-23</td>\n      <td>Chinese Grand Prix</td>\n      <td>sprint_qualifying</td>\n      <td>Practice 1</td>\n      <td>2025-03-21 11:30:00+08:00</td>\n      <td>2025-03-21 03:30:00</td>\n      <td>...</td>\n      <td>Sprint</td>\n      <td>2025-03-22 11:00:00+08:00</td>\n      <td>2025-03-22 03:00:00</td>\n      <td>Qualifying</td>\n      <td>2025-03-22 15:00:00+08:00</td>\n      <td>2025-03-22 07:00:00</td>\n      <td>Race</td>\n      <td>2025-03-23 15:00:00+08:00</td>\n      <td>2025-03-23 07:00:00</td>\n      <td>True</td>\n    </tr>\n    <tr>\n      <th>3</th>\n      <td>3</td>\n      <td>Japan</td>\n      <td>Suzuka</td>\n      <td>FORMULA 1 LENOVO JAPANESE GRAND PRIX 2025</td>\n      <td>2025-04-06</td>\n      <td>Japanese Grand Prix</td>\n      <td>conventional</td>\n      <td>Practice 1</td>\n      <td>2025-04-04 11:30:00+09:00</td>\n      <td>2025-04-04 02:30:00</td>\n      <td>...</td>\n      <td>Practice 3</td>\n      <td>2025-04-05 11:30:00+09:00</td>\n      <td>2025-04-05 02:30:00</td>\n      <td>Qualifying</td>\n      <td>2025-04-05 15:00:00+09:00</td>\n      <td>2025-04-05 06:00:00</td>\n      <td>Race</td>\n      <td>2025-04-06 14:00:00+09:00</td>\n      <td>2025-04-06 05:00:00</td>\n      <td>True</td>\n    </tr>\n    <tr>\n      <th>4</th>\n      <td>4</td>\n      <td>Bahrain</td>\n      <td>Sakhir</td>\n      <td>FORMULA 1 GULF AIR BAHRAIN GRAND PRIX 2025</td>\n      <td>2025-04-13</td>\n      <td>Bahrain Grand Prix</td>\n      <td>conventional</td>\n      <td>Practice 1</td>\n      <td>2025-04-11 14:30:00+03:00</td>\n      <td>2025-04-11 11:30:00</td>\n      <td>...</td>\n      <td>Practice 3</td>\n      <td>2025-04-12 15:30:00+03:00</td>\n      <td>2025-04-12 12:30:00</td>\n      <td>Qualifying</td>\n      <td>2025-04-12 19:00:00+03:00</td>\n      <td>2025-04-12 16:00:00</td>\n      <td>Race</td>\n      <td>2025-04-13 18:00:00+03:00</td>\n      <td>2025-04-13 15:00:00</td>\n      <td>True</td>\n    </tr>\n    <tr>\n      <th>5</th>\n      <td>5</td>\n      <td>Saudi Arabia</td>\n      <td>Jeddah</td>\n      <td>FORMULA 1 STC SAUDI ARABIAN GRAND PRIX 2025</td>\n      <td>2025-04-20</td>\n      <td>Saudi Arabian Grand Prix</td>\n      <td>conventional</td>\n      <td>Practice 1</td>\n      <td>2025-04-18 16:30:00+03:00</td>\n      <td>2025-04-18 13:30:00</td>\n      <td>...</td>\n      <td>Practice 3</td>\n      <td>2025-04-19 16:30:00+03:00</td>\n      <td>2025-04-19 13:30:00</td>\n      <td>Qualifying</td>\n      <td>2025-04-19 20:00:00+03:00</td>\n      <td>2025-04-19 17:00:00</td>\n      <td>Race</td>\n      <td>2025-04-20 20:00:00+03:00</td>\n      <td>2025-04-20 17:00:00</td>\n      <td>True</td>\n    </tr>\n  </tbody>\n</table>\n<p>5 rows × 23 columns</p>\n</div>"
     },
     "execution_count": 7,
     "metadata": {},
     "output_type": "execute_result"
    }
   ],
   "source": [
    "#filter 2025 races to show only ones that happened already (with if year = 2025 in real code)\n",
    "cal_2025 = fastf1.get_event_schedule(2025, include_testing=False)\n",
    "today = pd.to_datetime(date.today())\n",
    "past_races = cal_2025[cal_2025['EventDate'] < today]\n",
    "past_races.head()"
   ]
  },
  {
   "cell_type": "code",
   "execution_count": 8,
   "id": "767f97ef4045b0fe",
   "metadata": {
    "ExecuteTime": {
     "end_time": "2025-05-27T10:56:57.475484900Z",
     "start_time": "2025-05-27T10:56:57.266453500Z"
    }
   },
   "outputs": [
    {
     "name": "stdout",
     "output_type": "stream",
     "text": [
      "1                 Race 1 - Bahrain Grand Prix - Sakhir\n",
      "2           Race 2 - Saudi Arabian Grand Prix - Jeddah\n",
      "3           Race 3 - Australian Grand Prix - Melbourne\n",
      "4                Race 4 - Japanese Grand Prix - Suzuka\n",
      "5               Race 5 - Chinese Grand Prix - Shanghai\n",
      "6                    Race 6 - Miami Grand Prix - Miami\n",
      "7           Race 7 - Emilia Romagna Grand Prix - Imola\n",
      "8                  Race 8 - Monaco Grand Prix - Monaco\n",
      "9              Race 9 - Canadian Grand Prix - Montréal\n",
      "10            Race 10 - Spanish Grand Prix - Barcelona\n",
      "11           Race 11 - Austrian Grand Prix - Spielberg\n",
      "12          Race 12 - British Grand Prix - Silverstone\n",
      "13           Race 13 - Hungarian Grand Prix - Budapest\n",
      "14    Race 14 - Belgian Grand Prix - Spa-Francorchamps\n",
      "15              Race 15 - Dutch Grand Prix - Zandvoort\n",
      "16                Race 16 - Italian Grand Prix - Monza\n",
      "17              Race 17 - Azerbaijan Grand Prix - Baku\n",
      "18         Race 18 - Singapore Grand Prix - Marina Bay\n",
      "19         Race 19 - United States Grand Prix - Austin\n",
      "20      Race 20 - Mexico City Grand Prix - Mexico City\n",
      "21          Race 21 - São Paulo Grand Prix - São Paulo\n",
      "22          Race 22 - Las Vegas Grand Prix - Las Vegas\n",
      "23                 Race 23 - Qatar Grand Prix - Lusail\n",
      "24         Race 24 - Abu Dhabi Grand Prix - Yas Island\n",
      "Name: CustomEventName, dtype: object\n"
     ]
    },
    {
     "name": "stderr",
     "output_type": "stream",
     "text": [
      "C:\\Users\\nelly\\AppData\\Local\\Temp\\ipykernel_24696\\287960836.py:2: SettingWithCopyWarning: \n",
      "A value is trying to be set on a copy of a slice from a DataFrame.\n",
      "Try using .loc[row_indexer,col_indexer] = value instead\n",
      "\n",
      "See the caveats in the documentation: https://pandas.pydata.org/pandas-docs/stable/user_guide/indexing.html#returning-a-view-versus-a-copy\n",
      "  calendar['CustomEventName'] = \"Race \" + calendar['RoundNumber'].astype(str) + \" - \" + calendar['EventName'] + \" - \" + calendar['Location']\n"
     ]
    }
   ],
   "source": [
    "#create custom event name for usage in streamlit input fields\n",
    "calendar['CustomEventName'] = \"Race \" + calendar['RoundNumber'].astype(str) + \" - \" + calendar['EventName'] + \" - \" + calendar['Location']\n",
    "print(calendar['CustomEventName'])"
   ]
  },
  {
   "cell_type": "code",
   "execution_count": 9,
   "id": "40c6457327e94e7b",
   "metadata": {
    "ExecuteTime": {
     "end_time": "2025-05-27T10:56:57.476548100Z",
     "start_time": "2025-05-27T10:56:57.282326100Z"
    }
   },
   "outputs": [
    {
     "name": "stdout",
     "output_type": "stream",
     "text": [
      "1                 Race 1 - Bahrain Grand Prix - Sakhir\n",
      "2           Race 2 - Saudi Arabian Grand Prix - Jeddah\n",
      "3           Race 3 - Australian Grand Prix - Melbourne\n",
      "4                Race 4 - Japanese Grand Prix - Suzuka\n",
      "5               Race 5 - Chinese Grand Prix - Shanghai\n",
      "6                            Race 6 - Miami Grand Prix\n",
      "7           Race 7 - Emilia Romagna Grand Prix - Imola\n",
      "8                           Race 8 - Monaco Grand Prix\n",
      "9              Race 9 - Canadian Grand Prix - Montréal\n",
      "10            Race 10 - Spanish Grand Prix - Barcelona\n",
      "11           Race 11 - Austrian Grand Prix - Spielberg\n",
      "12          Race 12 - British Grand Prix - Silverstone\n",
      "13           Race 13 - Hungarian Grand Prix - Budapest\n",
      "14    Race 14 - Belgian Grand Prix - Spa-Francorchamps\n",
      "15              Race 15 - Dutch Grand Prix - Zandvoort\n",
      "16                Race 16 - Italian Grand Prix - Monza\n",
      "17              Race 17 - Azerbaijan Grand Prix - Baku\n",
      "18         Race 18 - Singapore Grand Prix - Marina Bay\n",
      "19         Race 19 - United States Grand Prix - Austin\n",
      "20                    Race 20 - Mexico City Grand Prix\n",
      "21                      Race 21 - São Paulo Grand Prix\n",
      "22                      Race 22 - Las Vegas Grand Prix\n",
      "23                 Race 23 - Qatar Grand Prix - Lusail\n",
      "24         Race 24 - Abu Dhabi Grand Prix - Yas Island\n",
      "Name: CustomEventName, dtype: object\n"
     ]
    }
   ],
   "source": [
    "#alternativ: doppelungen in custom event name verhindern, indem location nur angezeigt wird, wenn nicht schon im originalen Eventnamen enthalten. wird so ins projekt übernommen\n",
    "import numpy as np\n",
    "import re\n",
    "\n",
    "calendar['CustomEventName'] = np.where(\n",
    "    calendar.apply(lambda row: re.search(r'\\b' + re.escape(row['Location']) + r'\\b', row['EventName'], re.IGNORECASE), axis=1),\n",
    "    \"Race \" + calendar['RoundNumber'].astype(str) + \" - \" + calendar['EventName'],\n",
    "    \"Race \" + calendar['RoundNumber'].astype(str) + \" - \" + calendar['EventName'] + \" - \" + calendar['Location']\n",
    ")\n",
    "\n",
    "print(calendar['CustomEventName'])"
   ]
  },
  {
   "cell_type": "code",
   "execution_count": 10,
   "id": "c20c1a41bd8add5a",
   "metadata": {
    "ExecuteTime": {
     "end_time": "2025-05-27T10:56:57.511441100Z",
     "start_time": "2025-05-27T10:56:57.297848Z"
    }
   },
   "outputs": [],
   "source": [
    "#session results for example race (Silverstone 2024)\n",
    "#Possible Sessions identifiers (from fastf1 Documentation):\n",
    "# 'Practice 1', 'Practice 2', 'Practice 3', 'Sprint', 'Sprint Shootout', 'Sprint Qualifying', 'Qualifying', 'Race'\n",
    "#short as 'FP1', 'FP2', 'FP3', 'Q', 'S', 'SS', 'SQ', 'R' \n",
    "session = fastf1.get_session(2024, 12, 'R')"
   ]
  },
  {
   "cell_type": "code",
   "execution_count": 11,
   "id": "7203408b610e254a",
   "metadata": {
    "ExecuteTime": {
     "end_time": "2025-05-27T10:56:57.512457600Z",
     "start_time": "2025-05-27T10:56:57.347078700Z"
    }
   },
   "outputs": [
    {
     "name": "stdout",
     "output_type": "stream",
     "text": [
      "Race\n",
      "2024-07-07 14:00:00\n",
      "British Grand Prix\n"
     ]
    }
   ],
   "source": [
    "print(session.name)\n",
    "print(session.date)\n",
    "print(session.event['EventName'])"
   ]
  },
  {
   "cell_type": "code",
   "execution_count": 12,
   "id": "dbb347a37042e2d4",
   "metadata": {
    "ExecuteTime": {
     "end_time": "2025-05-27T10:57:03.318746200Z",
     "start_time": "2025-05-27T10:56:57.362605500Z"
    }
   },
   "outputs": [
    {
     "name": "stderr",
     "output_type": "stream",
     "text": [
      "core           INFO \tLoading data for British Grand Prix - Race [v3.5.3]\n",
      "req            INFO \tUsing cached data for session_info\n",
      "req            INFO \tUsing cached data for driver_info\n",
      "req            INFO \tUsing cached data for session_status_data\n",
      "req            INFO \tUsing cached data for lap_count\n",
      "req            INFO \tUsing cached data for track_status_data\n",
      "req            INFO \tUsing cached data for _extended_timing_data\n",
      "req            INFO \tUsing cached data for timing_app_data\n",
      "core           INFO \tProcessing timing data...\n",
      "req            INFO \tUsing cached data for car_data\n",
      "req            INFO \tUsing cached data for position_data\n",
      "req            INFO \tUsing cached data for weather_data\n",
      "req            INFO \tUsing cached data for race_control_messages\n",
      "core           INFO \tFinished loading data for 20 drivers: ['44', '1', '4', '81', '55', '27', '18', '14', '23', '22', '2', '20', '3', '16', '77', '31', '11', '24', '63', '10']\n"
     ]
    },
    {
     "data": {
      "text/plain": "   DriverNumber BroadcastName Abbreviation        DriverId         TeamName  \\\n44           44    L HAMILTON          HAM        hamilton         Mercedes   \n1             1  M VERSTAPPEN          VER  max_verstappen  Red Bull Racing   \n4             4      L NORRIS          NOR          norris          McLaren   \n81           81     O PIASTRI          PIA         piastri          McLaren   \n55           55       C SAINZ          SAI           sainz          Ferrari   \n\n   TeamColor    TeamId FirstName    LastName        FullName  ... CountryCode  \\\n44    27F4D2  mercedes     Lewis    Hamilton  Lewis Hamilton  ...         GBR   \n1     3671C6  red_bull       Max  Verstappen  Max Verstappen  ...         NED   \n4     FF8000   mclaren     Lando      Norris    Lando Norris  ...         GBR   \n81    FF8000   mclaren     Oscar     Piastri   Oscar Piastri  ...         AUS   \n55    E80020   ferrari    Carlos       Sainz    Carlos Sainz  ...         ESP   \n\n   Position  ClassifiedPosition GridPosition  Q1  Q2  Q3  \\\n44      1.0                   1          2.0 NaT NaT NaT   \n1       2.0                   2          4.0 NaT NaT NaT   \n4       3.0                   3          3.0 NaT NaT NaT   \n81      4.0                   4          5.0 NaT NaT NaT   \n55      5.0                   5          7.0 NaT NaT NaT   \n\n                     Time    Status Points  \n44 0 days 01:22:27.059000  Finished   25.0  \n1  0 days 00:00:01.465000  Finished   18.0  \n4  0 days 00:00:07.547000  Finished   15.0  \n81 0 days 00:00:12.429000  Finished   12.0  \n55 0 days 00:00:47.318000  Finished   11.0  \n\n[5 rows x 21 columns]",
      "text/html": "<div>\n<style scoped>\n    .dataframe tbody tr th:only-of-type {\n        vertical-align: middle;\n    }\n\n    .dataframe tbody tr th {\n        vertical-align: top;\n    }\n\n    .dataframe thead th {\n        text-align: right;\n    }\n</style>\n<table border=\"1\" class=\"dataframe\">\n  <thead>\n    <tr style=\"text-align: right;\">\n      <th></th>\n      <th>DriverNumber</th>\n      <th>BroadcastName</th>\n      <th>Abbreviation</th>\n      <th>DriverId</th>\n      <th>TeamName</th>\n      <th>TeamColor</th>\n      <th>TeamId</th>\n      <th>FirstName</th>\n      <th>LastName</th>\n      <th>FullName</th>\n      <th>...</th>\n      <th>CountryCode</th>\n      <th>Position</th>\n      <th>ClassifiedPosition</th>\n      <th>GridPosition</th>\n      <th>Q1</th>\n      <th>Q2</th>\n      <th>Q3</th>\n      <th>Time</th>\n      <th>Status</th>\n      <th>Points</th>\n    </tr>\n  </thead>\n  <tbody>\n    <tr>\n      <th>44</th>\n      <td>44</td>\n      <td>L HAMILTON</td>\n      <td>HAM</td>\n      <td>hamilton</td>\n      <td>Mercedes</td>\n      <td>27F4D2</td>\n      <td>mercedes</td>\n      <td>Lewis</td>\n      <td>Hamilton</td>\n      <td>Lewis Hamilton</td>\n      <td>...</td>\n      <td>GBR</td>\n      <td>1.0</td>\n      <td>1</td>\n      <td>2.0</td>\n      <td>NaT</td>\n      <td>NaT</td>\n      <td>NaT</td>\n      <td>0 days 01:22:27.059000</td>\n      <td>Finished</td>\n      <td>25.0</td>\n    </tr>\n    <tr>\n      <th>1</th>\n      <td>1</td>\n      <td>M VERSTAPPEN</td>\n      <td>VER</td>\n      <td>max_verstappen</td>\n      <td>Red Bull Racing</td>\n      <td>3671C6</td>\n      <td>red_bull</td>\n      <td>Max</td>\n      <td>Verstappen</td>\n      <td>Max Verstappen</td>\n      <td>...</td>\n      <td>NED</td>\n      <td>2.0</td>\n      <td>2</td>\n      <td>4.0</td>\n      <td>NaT</td>\n      <td>NaT</td>\n      <td>NaT</td>\n      <td>0 days 00:00:01.465000</td>\n      <td>Finished</td>\n      <td>18.0</td>\n    </tr>\n    <tr>\n      <th>4</th>\n      <td>4</td>\n      <td>L NORRIS</td>\n      <td>NOR</td>\n      <td>norris</td>\n      <td>McLaren</td>\n      <td>FF8000</td>\n      <td>mclaren</td>\n      <td>Lando</td>\n      <td>Norris</td>\n      <td>Lando Norris</td>\n      <td>...</td>\n      <td>GBR</td>\n      <td>3.0</td>\n      <td>3</td>\n      <td>3.0</td>\n      <td>NaT</td>\n      <td>NaT</td>\n      <td>NaT</td>\n      <td>0 days 00:00:07.547000</td>\n      <td>Finished</td>\n      <td>15.0</td>\n    </tr>\n    <tr>\n      <th>81</th>\n      <td>81</td>\n      <td>O PIASTRI</td>\n      <td>PIA</td>\n      <td>piastri</td>\n      <td>McLaren</td>\n      <td>FF8000</td>\n      <td>mclaren</td>\n      <td>Oscar</td>\n      <td>Piastri</td>\n      <td>Oscar Piastri</td>\n      <td>...</td>\n      <td>AUS</td>\n      <td>4.0</td>\n      <td>4</td>\n      <td>5.0</td>\n      <td>NaT</td>\n      <td>NaT</td>\n      <td>NaT</td>\n      <td>0 days 00:00:12.429000</td>\n      <td>Finished</td>\n      <td>12.0</td>\n    </tr>\n    <tr>\n      <th>55</th>\n      <td>55</td>\n      <td>C SAINZ</td>\n      <td>SAI</td>\n      <td>sainz</td>\n      <td>Ferrari</td>\n      <td>E80020</td>\n      <td>ferrari</td>\n      <td>Carlos</td>\n      <td>Sainz</td>\n      <td>Carlos Sainz</td>\n      <td>...</td>\n      <td>ESP</td>\n      <td>5.0</td>\n      <td>5</td>\n      <td>7.0</td>\n      <td>NaT</td>\n      <td>NaT</td>\n      <td>NaT</td>\n      <td>0 days 00:00:47.318000</td>\n      <td>Finished</td>\n      <td>11.0</td>\n    </tr>\n  </tbody>\n</table>\n<p>5 rows × 21 columns</p>\n</div>"
     },
     "execution_count": 12,
     "metadata": {},
     "output_type": "execute_result"
    }
   ],
   "source": [
    "#important: load all data for this session\n",
    "session.load() #this can take a few seconds\n",
    "session.results.head()"
   ]
  },
  {
   "cell_type": "code",
   "execution_count": 13,
   "id": "99a6742e0dbfd0d5",
   "metadata": {
    "ExecuteTime": {
     "end_time": "2025-05-27T10:57:03.331167600Z",
     "start_time": "2025-05-27T10:57:03.315668200Z"
    }
   },
   "outputs": [
    {
     "data": {
      "text/plain": "['44',\n '1',\n '4',\n '81',\n '55',\n '27',\n '18',\n '14',\n '23',\n '22',\n '2',\n '20',\n '3',\n '16',\n '77',\n '31',\n '11',\n '24',\n '63',\n '10']"
     },
     "execution_count": 13,
     "metadata": {},
     "output_type": "execute_result"
    }
   ],
   "source": [
    "session.drivers"
   ]
  },
  {
   "cell_type": "code",
   "execution_count": 14,
   "id": "c88c0b55b55df680",
   "metadata": {
    "ExecuteTime": {
     "end_time": "2025-05-27T10:57:03.384546800Z",
     "start_time": "2025-05-27T10:57:03.328074200Z"
    }
   },
   "outputs": [
    {
     "data": {
      "text/plain": "Index(['DriverNumber', 'BroadcastName', 'Abbreviation', 'DriverId', 'TeamName',\n       'TeamColor', 'TeamId', 'FirstName', 'LastName', 'FullName',\n       'HeadshotUrl', 'CountryCode', 'Position', 'ClassifiedPosition',\n       'GridPosition', 'Q1', 'Q2', 'Q3', 'Time', 'Status', 'Points'],\n      dtype='object')"
     },
     "execution_count": 14,
     "metadata": {},
     "output_type": "execute_result"
    }
   ],
   "source": [
    "session.results.columns"
   ]
  },
  {
   "cell_type": "code",
   "execution_count": 15,
   "id": "8774076275b874a5",
   "metadata": {
    "ExecuteTime": {
     "end_time": "2025-05-27T10:57:03.457297300Z",
     "start_time": "2025-05-27T10:57:03.341853600Z"
    }
   },
   "outputs": [
    {
     "data": {
      "text/plain": "(20, 21)"
     },
     "execution_count": 15,
     "metadata": {},
     "output_type": "execute_result"
    }
   ],
   "source": [
    "session.results.shape"
   ]
  },
  {
   "cell_type": "code",
   "execution_count": 16,
   "id": "e913ec610a831ede",
   "metadata": {
    "ExecuteTime": {
     "end_time": "2025-05-27T10:57:03.458307700Z",
     "start_time": "2025-05-27T10:57:03.375364200Z"
    }
   },
   "outputs": [
    {
     "name": "stdout",
     "output_type": "stream",
     "text": [
      "<class 'fastf1.core.SessionResults'>\n",
      "Index: 20 entries, 44 to 10\n",
      "Data columns (total 21 columns):\n",
      " #   Column              Non-Null Count  Dtype          \n",
      "---  ------              --------------  -----          \n",
      " 0   DriverNumber        20 non-null     object         \n",
      " 1   BroadcastName       20 non-null     object         \n",
      " 2   Abbreviation        20 non-null     object         \n",
      " 3   DriverId            20 non-null     object         \n",
      " 4   TeamName            20 non-null     object         \n",
      " 5   TeamColor           20 non-null     object         \n",
      " 6   TeamId              20 non-null     object         \n",
      " 7   FirstName           20 non-null     object         \n",
      " 8   LastName            20 non-null     object         \n",
      " 9   FullName            20 non-null     object         \n",
      " 10  HeadshotUrl         20 non-null     object         \n",
      " 11  CountryCode         20 non-null     object         \n",
      " 12  Position            20 non-null     float64        \n",
      " 13  ClassifiedPosition  20 non-null     object         \n",
      " 14  GridPosition        20 non-null     float64        \n",
      " 15  Q1                  0 non-null      timedelta64[ns]\n",
      " 16  Q2                  0 non-null      timedelta64[ns]\n",
      " 17  Q3                  0 non-null      timedelta64[ns]\n",
      " 18  Time                18 non-null     timedelta64[ns]\n",
      " 19  Status              20 non-null     object         \n",
      " 20  Points              20 non-null     float64        \n",
      "dtypes: float64(3), object(14), timedelta64[ns](4)\n",
      "memory usage: 3.4+ KB\n"
     ]
    }
   ],
   "source": [
    "session.results.info()"
   ]
  },
  {
   "cell_type": "code",
   "execution_count": 17,
   "id": "6a2e2c7dd87ee483",
   "metadata": {
    "ExecuteTime": {
     "end_time": "2025-05-27T10:57:03.459325600Z",
     "start_time": "2025-05-27T10:57:03.387689100Z"
    }
   },
   "outputs": [
    {
     "name": "stdout",
     "output_type": "stream",
     "text": [
      "44          44 - Lewis Hamilton - Mercedes\n",
      "1     1 - Max Verstappen - Red Bull Racing\n",
      "4               4 - Lando Norris - McLaren\n",
      "81            81 - Oscar Piastri - McLaren\n",
      "55             55 - Carlos Sainz - Ferrari\n",
      "27     27 - Nico Hulkenberg - Haas F1 Team\n",
      "18        18 - Lance Stroll - Aston Martin\n",
      "14     14 - Fernando Alonso - Aston Martin\n",
      "23         23 - Alexander Albon - Williams\n",
      "22                  22 - Yuki Tsunoda - RB\n",
      "2            2 - Logan Sargeant - Williams\n",
      "20     20 - Kevin Magnussen - Haas F1 Team\n",
      "3                3 - Daniel Ricciardo - RB\n",
      "16          16 - Charles Leclerc - Ferrari\n",
      "77      77 - Valtteri Bottas - Kick Sauber\n",
      "31              31 - Esteban Ocon - Alpine\n",
      "11     11 - Sergio Perez - Red Bull Racing\n",
      "24          24 - Guanyu Zhou - Kick Sauber\n",
      "63          63 - George Russell - Mercedes\n",
      "10              10 - Pierre Gasly - Alpine\n",
      "Name: CustomDriverName, dtype: object\n"
     ]
    }
   ],
   "source": [
    "#create custom driver name for usage in streamlit input fields\n",
    "#what we probably want to do is make a smaller version of results as \"driver_info\" dataframe, then join the with the laps dataframe on driver number or \"Abbreviation\" column\n",
    "results = session.results\n",
    "results['CustomDriverName'] = results['DriverNumber'] + \" - \" + results['FullName'] + \" - \" + results['TeamName']\n",
    "print(results['CustomDriverName'])"
   ]
  },
  {
   "cell_type": "code",
   "execution_count": 18,
   "id": "46399a1439304695",
   "metadata": {
    "ExecuteTime": {
     "end_time": "2025-05-27T10:57:03.556326400Z",
     "start_time": "2025-05-27T10:57:03.402945600Z"
    }
   },
   "outputs": [
    {
     "data": {
      "text/plain": "                    Time Driver DriverNumber                LapTime  \\\n0 0 days 00:59:51.778000    HAM           44 0 days 00:01:36.034000   \n1 0 days 01:01:23.198000    HAM           44 0 days 00:01:31.420000   \n2 0 days 01:02:54.914000    HAM           44 0 days 00:01:31.716000   \n3 0 days 01:04:26.902000    HAM           44 0 days 00:01:31.988000   \n4 0 days 01:05:58.579000    HAM           44 0 days 00:01:31.677000   \n\n   LapNumber  Stint PitOutTime PitInTime            Sector1Time  \\\n0        1.0    1.0        NaT       NaT                    NaT   \n1        2.0    1.0        NaT       NaT 0 days 00:00:29.249000   \n2        3.0    1.0        NaT       NaT 0 days 00:00:29.287000   \n3        4.0    1.0        NaT       NaT 0 days 00:00:29.554000   \n4        5.0    1.0        NaT       NaT 0 days 00:00:29.469000   \n\n             Sector2Time  ... FreshTyre      Team           LapStartTime  \\\n0 0 days 00:00:37.703000  ...      True  Mercedes 0 days 00:58:15.512000   \n1 0 days 00:00:37.314000  ...      True  Mercedes 0 days 00:59:51.778000   \n2 0 days 00:00:37.133000  ...      True  Mercedes 0 days 01:01:23.198000   \n3 0 days 00:00:37.258000  ...      True  Mercedes 0 days 01:02:54.914000   \n4 0 days 00:00:37.231000  ...      True  Mercedes 0 days 01:04:26.902000   \n\n             LapStartDate  TrackStatus  Position  Deleted  DeletedReason  \\\n0 2024-07-07 14:03:12.541            1       3.0    False                  \n1 2024-07-07 14:04:48.807            1       2.0    False                  \n2 2024-07-07 14:06:20.227            1       2.0    False                  \n3 2024-07-07 14:07:51.943            1       2.0    False                  \n4 2024-07-07 14:09:23.931            1       2.0    False                  \n\n   FastF1Generated IsAccurate  \n0            False      False  \n1            False       True  \n2            False       True  \n3            False       True  \n4            False       True  \n\n[5 rows x 31 columns]",
      "text/html": "<div>\n<style scoped>\n    .dataframe tbody tr th:only-of-type {\n        vertical-align: middle;\n    }\n\n    .dataframe tbody tr th {\n        vertical-align: top;\n    }\n\n    .dataframe thead th {\n        text-align: right;\n    }\n</style>\n<table border=\"1\" class=\"dataframe\">\n  <thead>\n    <tr style=\"text-align: right;\">\n      <th></th>\n      <th>Time</th>\n      <th>Driver</th>\n      <th>DriverNumber</th>\n      <th>LapTime</th>\n      <th>LapNumber</th>\n      <th>Stint</th>\n      <th>PitOutTime</th>\n      <th>PitInTime</th>\n      <th>Sector1Time</th>\n      <th>Sector2Time</th>\n      <th>...</th>\n      <th>FreshTyre</th>\n      <th>Team</th>\n      <th>LapStartTime</th>\n      <th>LapStartDate</th>\n      <th>TrackStatus</th>\n      <th>Position</th>\n      <th>Deleted</th>\n      <th>DeletedReason</th>\n      <th>FastF1Generated</th>\n      <th>IsAccurate</th>\n    </tr>\n  </thead>\n  <tbody>\n    <tr>\n      <th>0</th>\n      <td>0 days 00:59:51.778000</td>\n      <td>HAM</td>\n      <td>44</td>\n      <td>0 days 00:01:36.034000</td>\n      <td>1.0</td>\n      <td>1.0</td>\n      <td>NaT</td>\n      <td>NaT</td>\n      <td>NaT</td>\n      <td>0 days 00:00:37.703000</td>\n      <td>...</td>\n      <td>True</td>\n      <td>Mercedes</td>\n      <td>0 days 00:58:15.512000</td>\n      <td>2024-07-07 14:03:12.541</td>\n      <td>1</td>\n      <td>3.0</td>\n      <td>False</td>\n      <td></td>\n      <td>False</td>\n      <td>False</td>\n    </tr>\n    <tr>\n      <th>1</th>\n      <td>0 days 01:01:23.198000</td>\n      <td>HAM</td>\n      <td>44</td>\n      <td>0 days 00:01:31.420000</td>\n      <td>2.0</td>\n      <td>1.0</td>\n      <td>NaT</td>\n      <td>NaT</td>\n      <td>0 days 00:00:29.249000</td>\n      <td>0 days 00:00:37.314000</td>\n      <td>...</td>\n      <td>True</td>\n      <td>Mercedes</td>\n      <td>0 days 00:59:51.778000</td>\n      <td>2024-07-07 14:04:48.807</td>\n      <td>1</td>\n      <td>2.0</td>\n      <td>False</td>\n      <td></td>\n      <td>False</td>\n      <td>True</td>\n    </tr>\n    <tr>\n      <th>2</th>\n      <td>0 days 01:02:54.914000</td>\n      <td>HAM</td>\n      <td>44</td>\n      <td>0 days 00:01:31.716000</td>\n      <td>3.0</td>\n      <td>1.0</td>\n      <td>NaT</td>\n      <td>NaT</td>\n      <td>0 days 00:00:29.287000</td>\n      <td>0 days 00:00:37.133000</td>\n      <td>...</td>\n      <td>True</td>\n      <td>Mercedes</td>\n      <td>0 days 01:01:23.198000</td>\n      <td>2024-07-07 14:06:20.227</td>\n      <td>1</td>\n      <td>2.0</td>\n      <td>False</td>\n      <td></td>\n      <td>False</td>\n      <td>True</td>\n    </tr>\n    <tr>\n      <th>3</th>\n      <td>0 days 01:04:26.902000</td>\n      <td>HAM</td>\n      <td>44</td>\n      <td>0 days 00:01:31.988000</td>\n      <td>4.0</td>\n      <td>1.0</td>\n      <td>NaT</td>\n      <td>NaT</td>\n      <td>0 days 00:00:29.554000</td>\n      <td>0 days 00:00:37.258000</td>\n      <td>...</td>\n      <td>True</td>\n      <td>Mercedes</td>\n      <td>0 days 01:02:54.914000</td>\n      <td>2024-07-07 14:07:51.943</td>\n      <td>1</td>\n      <td>2.0</td>\n      <td>False</td>\n      <td></td>\n      <td>False</td>\n      <td>True</td>\n    </tr>\n    <tr>\n      <th>4</th>\n      <td>0 days 01:05:58.579000</td>\n      <td>HAM</td>\n      <td>44</td>\n      <td>0 days 00:01:31.677000</td>\n      <td>5.0</td>\n      <td>1.0</td>\n      <td>NaT</td>\n      <td>NaT</td>\n      <td>0 days 00:00:29.469000</td>\n      <td>0 days 00:00:37.231000</td>\n      <td>...</td>\n      <td>True</td>\n      <td>Mercedes</td>\n      <td>0 days 01:04:26.902000</td>\n      <td>2024-07-07 14:09:23.931</td>\n      <td>1</td>\n      <td>2.0</td>\n      <td>False</td>\n      <td></td>\n      <td>False</td>\n      <td>True</td>\n    </tr>\n  </tbody>\n</table>\n<p>5 rows × 31 columns</p>\n</div>"
     },
     "execution_count": 18,
     "metadata": {},
     "output_type": "execute_result"
    }
   ],
   "source": [
    "#loading all laps from the session\n",
    "session.laps.head()"
   ]
  },
  {
   "cell_type": "code",
   "execution_count": 19,
   "outputs": [
    {
     "name": "stderr",
     "output_type": "stream",
     "text": [
      "C:\\Users\\nelly\\AppData\\Local\\Temp\\ipykernel_24696\\1891642899.py:23: FutureWarning: Setting an item of incompatible dtype is deprecated and will raise an error in a future version of pandas. Value '0 days 00:00:00.823000' has dtype incompatible with datetime64[ns], please explicitly cast to a compatible dtype first.\n",
      "  session.laps.at[idx, 'TimeBehindLeader'] = session.laps.at[idx, 'Time'] - leader_time\n"
     ]
    },
    {
     "name": "stdout",
     "output_type": "stream",
     "text": [
      "[Info] No leader (Position == 1.0) for lap 1.0. Used min Time instead.\n",
      "    LapNumber Driver  Position                   Time        TimeBehindLeader\n",
      "0         1.0    HAM       3.0 0 days 00:59:51.778000         0 days 00:00:00\n",
      "1         2.0    HAM       2.0 0 days 01:01:23.198000  0 days 00:00:00.825000\n",
      "2         3.0    HAM       2.0 0 days 01:02:54.914000  0 days 00:00:01.243000\n",
      "3         4.0    HAM       2.0 0 days 01:04:26.902000  0 days 00:00:01.432000\n",
      "4         5.0    HAM       2.0 0 days 01:05:58.579000  0 days 00:00:01.481000\n",
      "5         6.0    HAM       2.0 0 days 01:07:30.325000  0 days 00:00:01.602000\n",
      "6         7.0    HAM       2.0        0 days 01:09:02  0 days 00:00:01.614000\n",
      "7         8.0    HAM       2.0 0 days 01:10:33.760000  0 days 00:00:01.643000\n",
      "8         9.0    HAM       2.0 0 days 01:12:05.324000  0 days 00:00:01.586000\n",
      "9        10.0    HAM       2.0 0 days 01:13:36.839000  0 days 00:00:01.462000\n",
      "10       11.0    HAM       2.0 0 days 01:15:08.326000  0 days 00:00:01.363000\n",
      "11       12.0    HAM       2.0 0 days 01:16:39.889000  0 days 00:00:01.307000\n",
      "12       13.0    HAM       2.0 0 days 01:18:11.770000  0 days 00:00:01.472000\n",
      "13       14.0    HAM       2.0 0 days 01:19:43.379000  0 days 00:00:01.603000\n",
      "14       15.0    HAM       2.0 0 days 01:21:14.942000  0 days 00:00:01.600000\n",
      "15       16.0    HAM       2.0 0 days 01:22:46.873000  0 days 00:00:01.905000\n",
      "16       17.0    HAM       2.0 0 days 01:24:20.594000  0 days 00:00:00.833000\n",
      "17       18.0    HAM       1.0 0 days 01:25:55.665000         0 days 00:00:00\n",
      "18       19.0    HAM       1.0 0 days 01:27:39.376000         0 days 00:00:00\n",
      "19       20.0    HAM       3.0 0 days 01:29:19.397000  0 days 00:00:02.094000\n",
      "20       21.0    HAM       3.0 0 days 01:30:51.553000  0 days 00:00:02.737000\n",
      "21       22.0    HAM       3.0 0 days 01:32:22.648000  0 days 00:00:02.972000\n",
      "22       23.0    HAM       3.0 0 days 01:33:53.755000  0 days 00:00:02.903000\n",
      "23       24.0    HAM       3.0 0 days 01:35:25.390000  0 days 00:00:02.909000\n",
      "24       25.0    HAM       3.0 0 days 01:37:00.378000  0 days 00:00:03.590000\n",
      "25       26.0    HAM       3.0 0 days 01:38:41.170000  0 days 00:00:02.867000\n",
      "26       27.0    HAM       2.0 0 days 01:40:26.353000  0 days 00:00:03.244000\n",
      "27       28.0    HAM       3.0 0 days 01:42:27.219000  0 days 00:00:05.588000\n",
      "28       29.0    HAM       2.0 0 days 01:44:07.639000  0 days 00:00:03.349000\n",
      "29       30.0    HAM       2.0 0 days 01:45:48.106000  0 days 00:00:03.099000\n",
      "30       31.0    HAM       2.0 0 days 01:47:29.644000  0 days 00:00:03.324000\n",
      "31       32.0    HAM       2.0 0 days 01:49:12.119000  0 days 00:00:03.583000\n",
      "32       33.0    HAM       2.0 0 days 01:50:54.554000  0 days 00:00:03.411000\n",
      "33       34.0    HAM       2.0 0 days 01:52:37.311000  0 days 00:00:03.090000\n",
      "34       35.0    HAM       2.0 0 days 01:54:19.582000  0 days 00:00:02.426000\n",
      "35       36.0    HAM       2.0 0 days 01:56:01.506000  0 days 00:00:02.010000\n",
      "36       37.0    HAM       2.0 0 days 01:57:41.217000  0 days 00:00:01.935000\n",
      "37       38.0    HAM       2.0 0 days 01:59:18.437000  0 days 00:00:01.156000\n",
      "38       39.0    HAM       3.0 0 days 02:01:15.826000  0 days 00:00:21.799000\n",
      "39       40.0    HAM       1.0 0 days 02:02:46.144000         0 days 00:00:00\n",
      "40       41.0    HAM       1.0 0 days 02:04:16.262000         0 days 00:00:00\n",
      "41       42.0    HAM       1.0 0 days 02:05:45.879000         0 days 00:00:00\n",
      "42       43.0    HAM       1.0 0 days 02:07:15.672000         0 days 00:00:00\n",
      "43       44.0    HAM       1.0 0 days 02:08:45.369000         0 days 00:00:00\n",
      "44       45.0    HAM       1.0 0 days 02:10:14.807000         0 days 00:00:00\n",
      "45       46.0    HAM       1.0 0 days 02:11:44.448000         0 days 00:00:00\n",
      "46       47.0    HAM       1.0 0 days 02:13:13.986000         0 days 00:00:00\n",
      "47       48.0    HAM       1.0 0 days 02:14:43.565000         0 days 00:00:00\n",
      "48       49.0    HAM       1.0 0 days 02:16:13.232000         0 days 00:00:00\n",
      "49       50.0    HAM       1.0 0 days 02:17:42.914000         0 days 00:00:00\n",
      "50       51.0    HAM       1.0 0 days 02:19:12.657000         0 days 00:00:00\n",
      "51       52.0    HAM       1.0 0 days 02:20:42.803000         0 days 00:00:00\n",
      "52        1.0    VER       4.0 0 days 00:59:52.455000         0 days 00:00:00\n",
      "53        2.0    VER       3.0 0 days 01:01:24.228000  0 days 00:00:01.855000\n",
      "54        3.0    VER       3.0 0 days 01:02:56.428000  0 days 00:00:02.757000\n",
      "55        4.0    VER       3.0 0 days 01:04:28.361000  0 days 00:00:02.891000\n",
      "56        5.0    VER       3.0 0 days 01:06:00.139000  0 days 00:00:03.041000\n",
      "57        6.0    VER       3.0 0 days 01:07:31.850000  0 days 00:00:03.127000\n",
      "58        7.0    VER       3.0 0 days 01:09:03.785000  0 days 00:00:03.399000\n",
      "59        8.0    VER       3.0 0 days 01:10:35.823000  0 days 00:00:03.706000\n"
     ]
    }
   ],
   "source": [
    "# Ensure Position is float\n",
    "session.laps['Position'] = session.laps['Position'].astype(float)\n",
    "\n",
    "# Initialize the column\n",
    "session.laps['TimeBehindLeader'] = pd.NaT\n",
    "\n",
    "# Iterate through each lap number\n",
    "for lap in session.laps['LapNumber'].dropna().unique():\n",
    "    lap_data = session.laps[session.laps['LapNumber'] == lap]\n",
    "\n",
    "    # Try to find leader by Position == 1.0\n",
    "    leader_row = lap_data[lap_data['Position'] == 1.0]\n",
    "\n",
    "    if not leader_row.empty:\n",
    "        leader_time = leader_row['Time'].iloc[0]\n",
    "    else:\n",
    "        # Fallback: use the minimum Time in the lap\n",
    "        leader_time = lap_data['Time'].min()\n",
    "        print(f\"[Info] No leader (Position == 1.0) for lap {lap}. Used min Time instead.\")\n",
    "\n",
    "    # Assign time behind\n",
    "    for idx in lap_data.index:\n",
    "        session.laps.at[idx, 'TimeBehindLeader'] = session.laps.at[idx, 'Time'] - leader_time\n",
    "\n",
    "#Set TimeBehindLeader to 0.0 for the first Lab\n",
    "session.laps.loc[session.laps['LapNumber'] == 1.0, 'TimeBehindLeader'] = pd.Timedelta(0)\n",
    "\n",
    "# Verify the result\n",
    "print(session.laps[['LapNumber', 'Driver', 'Position', 'Time', 'TimeBehindLeader']].head(60))"
   ],
   "metadata": {
    "collapsed": false,
    "ExecuteTime": {
     "end_time": "2025-05-27T10:57:03.759581500Z",
     "start_time": "2025-05-27T10:57:03.435433800Z"
    }
   },
   "id": "5ee35907827c47d8"
  },
  {
   "cell_type": "code",
   "execution_count": 20,
   "outputs": [
    {
     "name": "stdout",
     "output_type": "stream",
     "text": [
      "                      Time Driver DriverNumber                LapTime  \\\n",
      "0   0 days 00:59:51.778000    HAM           44 0 days 00:01:36.034000   \n",
      "52  0 days 00:59:52.455000    VER            1 0 days 00:01:36.711000   \n",
      "104 0 days 00:59:53.091000    NOR            4 0 days 00:01:37.347000   \n",
      "156 0 days 00:59:53.752000    PIA           81 0 days 00:01:38.008000   \n",
      "208 0 days 00:59:54.443000    SAI           55 0 days 00:01:38.699000   \n",
      "260 0 days 00:59:55.910000    HUL           27 0 days 00:01:40.166000   \n",
      "312 0 days 00:59:54.852000    STR           18 0 days 00:01:39.108000   \n",
      "364 0 days 00:59:56.218000    ALO           14 0 days 00:01:40.474000   \n",
      "416 0 days 00:59:57.332000    ALB           23 0 days 00:01:41.588000   \n",
      "468 0 days 00:59:56.853000    TSU           22 0 days 00:01:41.109000   \n",
      "520 0 days 00:59:57.516000    SAR            2 0 days 00:01:41.772000   \n",
      "572 0 days 00:59:59.425000    MAG           20 0 days 00:01:43.681000   \n",
      "624 0 days 00:59:58.459000    RIC            3 0 days 00:01:42.715000   \n",
      "675 0 days 00:59:55.407000    LEC           16 0 days 00:01:39.663000   \n",
      "726 0 days 01:00:00.034000    BOT           77 0 days 00:01:44.290000   \n",
      "777 0 days 00:59:58.796000    OCO           31 0 days 00:01:43.052000   \n",
      "827 0 days 01:00:05.202000    PER           11 0 days 00:01:49.458000   \n",
      "877 0 days 00:59:57.975000    ZHO           24 0 days 00:01:42.231000   \n",
      "927 0 days 00:59:50.955000    RUS           63 0 days 00:01:35.211000   \n",
      "960 0 days 00:59:50.955000    GAS           10                    NaT   \n",
      "\n",
      "     LapNumber  Stint             PitOutTime PitInTime Sector1Time  \\\n",
      "0          1.0    1.0                    NaT       NaT         NaT   \n",
      "52         1.0    1.0                    NaT       NaT         NaT   \n",
      "104        1.0    1.0                    NaT       NaT         NaT   \n",
      "156        1.0    1.0                    NaT       NaT         NaT   \n",
      "208        1.0    1.0                    NaT       NaT         NaT   \n",
      "260        1.0    1.0                    NaT       NaT         NaT   \n",
      "312        1.0    1.0                    NaT       NaT         NaT   \n",
      "364        1.0    1.0                    NaT       NaT         NaT   \n",
      "416        1.0    1.0                    NaT       NaT         NaT   \n",
      "468        1.0    1.0                    NaT       NaT         NaT   \n",
      "520        1.0    1.0                    NaT       NaT         NaT   \n",
      "572        1.0    1.0                    NaT       NaT         NaT   \n",
      "624        1.0    1.0                    NaT       NaT         NaT   \n",
      "675        1.0    1.0                    NaT       NaT         NaT   \n",
      "726        1.0    1.0                    NaT       NaT         NaT   \n",
      "777        1.0    1.0                    NaT       NaT         NaT   \n",
      "827        1.0    1.0 0 days 00:58:28.260000       NaT         NaT   \n",
      "877        1.0    1.0                    NaT       NaT         NaT   \n",
      "927        1.0    1.0                    NaT       NaT         NaT   \n",
      "960        1.0    1.0                    NaT       NaT         NaT   \n",
      "\n",
      "               Sector2Time  ...             Team           LapStartTime  \\\n",
      "0   0 days 00:00:37.703000  ...         Mercedes 0 days 00:58:15.512000   \n",
      "52  0 days 00:00:37.975000  ...  Red Bull Racing 0 days 00:58:15.512000   \n",
      "104 0 days 00:00:38.340000  ...          McLaren 0 days 00:58:15.512000   \n",
      "156 0 days 00:00:38.659000  ...          McLaren 0 days 00:58:15.512000   \n",
      "208 0 days 00:00:38.756000  ...          Ferrari 0 days 00:58:15.512000   \n",
      "260 0 days 00:00:38.864000  ...     Haas F1 Team 0 days 00:58:15.512000   \n",
      "312 0 days 00:00:38.695000  ...     Aston Martin 0 days 00:58:15.512000   \n",
      "364 0 days 00:00:39.024000  ...     Aston Martin 0 days 00:58:15.512000   \n",
      "416 0 days 00:00:39.644000  ...         Williams 0 days 00:58:15.512000   \n",
      "468 0 days 00:00:39.386000  ...               RB 0 days 00:58:15.512000   \n",
      "520 0 days 00:00:39.579000  ...         Williams 0 days 00:58:15.512000   \n",
      "572 0 days 00:00:40.010000  ...     Haas F1 Team 0 days 00:58:15.512000   \n",
      "624 0 days 00:00:39.782000  ...               RB 0 days 00:58:15.512000   \n",
      "675 0 days 00:00:38.818000  ...          Ferrari 0 days 00:58:15.512000   \n",
      "726 0 days 00:00:40.380000  ...      Kick Sauber 0 days 00:58:15.512000   \n",
      "777 0 days 00:00:40.063000  ...           Alpine 0 days 00:58:15.512000   \n",
      "827 0 days 00:00:39.507000  ...  Red Bull Racing 0 days 00:58:15.512000   \n",
      "877 0 days 00:00:40.040000  ...      Kick Sauber 0 days 00:58:15.512000   \n",
      "927 0 days 00:00:37.497000  ...         Mercedes 0 days 00:58:15.512000   \n",
      "960                    NaT  ...           Alpine 0 days 00:58:15.512000   \n",
      "\n",
      "               LapStartDate TrackStatus  Position  Deleted  DeletedReason  \\\n",
      "0   2024-07-07 14:03:12.541           1       3.0    False                  \n",
      "52  2024-07-07 14:03:12.541           1       4.0    False                  \n",
      "104 2024-07-07 14:03:12.541           1       5.0    False                  \n",
      "156 2024-07-07 14:03:12.541           1       6.0    False                  \n",
      "208 2024-07-07 14:03:12.541           1       7.0    False                  \n",
      "260 2024-07-07 14:03:12.541           1      10.0    False                  \n",
      "312 2024-07-07 14:03:12.541           1       8.0    False                  \n",
      "364 2024-07-07 14:03:12.541           1      11.0    False                  \n",
      "416 2024-07-07 14:03:12.541           1      13.0    False                  \n",
      "468 2024-07-07 14:03:12.541           1      12.0    False                  \n",
      "520 2024-07-07 14:03:12.541           1      14.0    False                  \n",
      "572 2024-07-07 14:03:12.541           1      18.0    False                  \n",
      "624 2024-07-07 14:03:12.541           1      16.0    False                  \n",
      "675 2024-07-07 14:03:12.541           1       9.0    False                  \n",
      "726 2024-07-07 14:03:12.541           1      19.0    False                  \n",
      "777 2024-07-07 14:03:12.541           1      17.0    False                  \n",
      "827 2024-07-07 14:03:12.541           1      20.0    False                  \n",
      "877 2024-07-07 14:03:12.541           1      15.0    False                  \n",
      "927 2024-07-07 14:03:12.541           1       2.0    False                  \n",
      "960 2024-07-07 14:03:12.541           1       NaN    False                  \n",
      "\n",
      "     FastF1Generated  IsAccurate TimeBehindLeader  \n",
      "0              False       False  0 days 00:00:00  \n",
      "52             False       False  0 days 00:00:00  \n",
      "104            False       False  0 days 00:00:00  \n",
      "156            False       False  0 days 00:00:00  \n",
      "208            False       False  0 days 00:00:00  \n",
      "260            False       False  0 days 00:00:00  \n",
      "312            False       False  0 days 00:00:00  \n",
      "364            False       False  0 days 00:00:00  \n",
      "416            False       False  0 days 00:00:00  \n",
      "468            False       False  0 days 00:00:00  \n",
      "520            False       False  0 days 00:00:00  \n",
      "572            False       False  0 days 00:00:00  \n",
      "624            False       False  0 days 00:00:00  \n",
      "675            False       False  0 days 00:00:00  \n",
      "726            False       False  0 days 00:00:00  \n",
      "777            False       False  0 days 00:00:00  \n",
      "827            False       False  0 days 00:00:00  \n",
      "877            False       False  0 days 00:00:00  \n",
      "927            False       False  0 days 00:00:00  \n",
      "960             True       False  0 days 00:00:00  \n",
      "\n",
      "[20 rows x 32 columns]\n"
     ]
    }
   ],
   "source": [
    "print(session.laps[session.laps['LapNumber'] == 1.0])"
   ],
   "metadata": {
    "collapsed": false,
    "ExecuteTime": {
     "end_time": "2025-05-27T10:57:03.861436100Z",
     "start_time": "2025-05-27T10:57:03.758558Z"
    }
   },
   "id": "4a9d590bb17d39eb"
  },
  {
   "cell_type": "code",
   "execution_count": 21,
   "id": "7f1745122a905664",
   "metadata": {
    "ExecuteTime": {
     "end_time": "2025-05-27T10:57:03.872736700Z",
     "start_time": "2025-05-27T10:57:03.788292100Z"
    }
   },
   "outputs": [
    {
     "data": {
      "text/plain": "Index(['Time', 'Driver', 'DriverNumber', 'LapTime', 'LapNumber', 'Stint',\n       'PitOutTime', 'PitInTime', 'Sector1Time', 'Sector2Time', 'Sector3Time',\n       'Sector1SessionTime', 'Sector2SessionTime', 'Sector3SessionTime',\n       'SpeedI1', 'SpeedI2', 'SpeedFL', 'SpeedST', 'IsPersonalBest',\n       'Compound', 'TyreLife', 'FreshTyre', 'Team', 'LapStartTime',\n       'LapStartDate', 'TrackStatus', 'Position', 'Deleted', 'DeletedReason',\n       'FastF1Generated', 'IsAccurate', 'TimeBehindLeader'],\n      dtype='object')"
     },
     "execution_count": 21,
     "metadata": {},
     "output_type": "execute_result"
    }
   ],
   "source": [
    "session.laps.columns"
   ]
  },
  {
   "cell_type": "code",
   "execution_count": 22,
   "id": "bcf65f03fa96f76c",
   "metadata": {
    "ExecuteTime": {
     "end_time": "2025-05-27T10:57:03.875796800Z",
     "start_time": "2025-05-27T10:57:03.805695200Z"
    }
   },
   "outputs": [
    {
     "data": {
      "text/plain": "(961, 32)"
     },
     "execution_count": 22,
     "metadata": {},
     "output_type": "execute_result"
    }
   ],
   "source": [
    "session.laps.shape"
   ]
  },
  {
   "cell_type": "code",
   "execution_count": 23,
   "id": "cc6cdc95d94965a7",
   "metadata": {
    "ExecuteTime": {
     "end_time": "2025-05-27T10:57:03.978562100Z",
     "start_time": "2025-05-27T10:57:03.866614700Z"
    }
   },
   "outputs": [
    {
     "name": "stdout",
     "output_type": "stream",
     "text": [
      "<class 'fastf1.core.Laps'>\n",
      "RangeIndex: 961 entries, 0 to 960\n",
      "Data columns (total 32 columns):\n",
      " #   Column              Non-Null Count  Dtype          \n",
      "---  ------              --------------  -----          \n",
      " 0   Time                961 non-null    timedelta64[ns]\n",
      " 1   Driver              961 non-null    object         \n",
      " 2   DriverNumber        961 non-null    object         \n",
      " 3   LapTime             960 non-null    timedelta64[ns]\n",
      " 4   LapNumber           961 non-null    float64        \n",
      " 5   Stint               961 non-null    float64        \n",
      " 6   PitOutTime          46 non-null     timedelta64[ns]\n",
      " 7   PitInTime           46 non-null     timedelta64[ns]\n",
      " 8   Sector1Time         941 non-null    timedelta64[ns]\n",
      " 9   Sector2Time         960 non-null    timedelta64[ns]\n",
      " 10  Sector3Time         960 non-null    timedelta64[ns]\n",
      " 11  Sector1SessionTime  941 non-null    timedelta64[ns]\n",
      " 12  Sector2SessionTime  960 non-null    timedelta64[ns]\n",
      " 13  Sector3SessionTime  960 non-null    timedelta64[ns]\n",
      " 14  SpeedI1             828 non-null    float64        \n",
      " 15  SpeedI2             960 non-null    float64        \n",
      " 16  SpeedFL             914 non-null    float64        \n",
      " 17  SpeedST             960 non-null    float64        \n",
      " 18  IsPersonalBest      961 non-null    bool           \n",
      " 19  Compound            961 non-null    object         \n",
      " 20  TyreLife            961 non-null    float64        \n",
      " 21  FreshTyre           961 non-null    bool           \n",
      " 22  Team                961 non-null    object         \n",
      " 23  LapStartTime        961 non-null    timedelta64[ns]\n",
      " 24  LapStartDate        961 non-null    datetime64[ns] \n",
      " 25  TrackStatus         961 non-null    object         \n",
      " 26  Position            960 non-null    float64        \n",
      " 27  Deleted             961 non-null    bool           \n",
      " 28  DeletedReason       961 non-null    object         \n",
      " 29  FastF1Generated     961 non-null    bool           \n",
      " 30  IsAccurate          961 non-null    bool           \n",
      " 31  TimeBehindLeader    961 non-null    object         \n",
      "dtypes: bool(5), datetime64[ns](1), float64(8), object(7), timedelta64[ns](11)\n",
      "memory usage: 207.5+ KB\n"
     ]
    }
   ],
   "source": [
    "session.laps.info()"
   ]
  },
  {
   "cell_type": "code",
   "execution_count": 24,
   "id": "73e1614259a285b7",
   "metadata": {
    "ExecuteTime": {
     "end_time": "2025-05-27T10:57:04.065129600Z",
     "start_time": "2025-05-27T10:57:03.944903600Z"
    }
   },
   "outputs": [
    {
     "data": {
      "text/plain": "TrackStatus\n1    961\nName: count, dtype: int64"
     },
     "execution_count": 24,
     "metadata": {},
     "output_type": "execute_result"
    }
   ],
   "source": [
    "#finding out more about certain variables\n",
    "#Trackstatus, for example 1 as clean track, 4 as safety car. should be used in our visualizations\n",
    "session.laps['TrackStatus'].value_counts()"
   ]
  },
  {
   "cell_type": "code",
   "execution_count": 25,
   "id": "afbe29ccb341666a",
   "metadata": {
    "ExecuteTime": {
     "end_time": "2025-05-27T10:57:04.141689500Z",
     "start_time": "2025-05-27T10:57:04.038391600Z"
    }
   },
   "outputs": [
    {
     "data": {
      "text/plain": "Compound\nMEDIUM          509\nINTERMEDIATE    234\nSOFT            174\nHARD             44\nName: count, dtype: int64"
     },
     "execution_count": 25,
     "metadata": {},
     "output_type": "execute_result"
    }
   ],
   "source": [
    "session.laps['Compound'].value_counts()"
   ]
  },
  {
   "cell_type": "code",
   "execution_count": 26,
   "id": "5935c5680a496da6",
   "metadata": {
    "ExecuteTime": {
     "end_time": "2025-05-27T10:57:04.144732700Z",
     "start_time": "2025-05-27T10:57:04.085664300Z"
    }
   },
   "outputs": [
    {
     "data": {
      "text/plain": "PitInTime\n0 days 01:40:20.422000    1\n0 days 01:59:12.470000    1\n0 days 01:38:44.599000    1\n0 days 01:59:18.092000    1\n0 days 01:40:17.147000    1\n0 days 02:00:48.120000    1\n0 days 01:42:15.701000    1\n0 days 01:59:32.481000    1\n0 days 01:38:45.781000    1\n0 days 02:01:09.712000    1\n0 days 02:18:03.383000    1\n0 days 01:39:02.808000    1\n0 days 02:01:32.097000    1\n0 days 01:39:05.009000    1\n0 days 02:01:36.764000    1\n0 days 01:40:55.058000    1\n0 days 02:00:06.460000    1\n0 days 01:40:56.978000    1\n0 days 02:00:14.387000    1\n0 days 01:40:56.345000    1\n0 days 02:00:11.160000    1\n0 days 01:41:05.089000    1\n0 days 02:00:27.139000    1\n0 days 01:41:03.244000    1\n0 days 01:58:45.121000    1\n0 days 01:39:27.190000    1\n0 days 01:58:47.921000    1\n0 days 01:27:54.908000    1\n0 days 01:42:21.352000    1\n0 days 01:59:44.116000    1\n0 days 01:39:45.423000    1\n0 days 01:59:09.116000    1\n0 days 01:28:25.181000    1\n0 days 01:32:05.879000    1\n0 days 01:41:00.845000    1\n0 days 02:01:56.244000    1\n0 days 01:28:03.182000    1\n0 days 01:44:16.811000    1\n0 days 02:00:02.791000    1\n0 days 02:15:42.430000    1\n0 days 01:17:10.690000    1\n0 days 01:28:49.813000    1\n0 days 01:41:42.992000    1\n0 days 02:01:04.272000    1\n0 days 01:40:23.995000    1\n0 days 01:50:59.953000    1\nName: count, dtype: int64"
     },
     "execution_count": 26,
     "metadata": {},
     "output_type": "execute_result"
    }
   ],
   "source": [
    "session.laps['PitInTime'].value_counts()\n",
    "#this marker could be used to determine, in which lap a driver took a pitstop, which we could visualize in the plot"
   ]
  },
  {
   "cell_type": "code",
   "execution_count": 27,
   "id": "4714d1d304e61423",
   "metadata": {
    "ExecuteTime": {
     "end_time": "2025-05-27T10:57:04.163052600Z",
     "start_time": "2025-05-27T10:57:04.130938Z"
    }
   },
   "outputs": [
    {
     "name": "stdout",
     "output_type": "stream",
     "text": [
      "<class 'pandas.core.frame.DataFrame'>\n",
      "RangeIndex: 147 entries, 0 to 146\n",
      "Data columns (total 8 columns):\n",
      " #   Column         Non-Null Count  Dtype          \n",
      "---  ------         --------------  -----          \n",
      " 0   Time           147 non-null    timedelta64[ns]\n",
      " 1   AirTemp        147 non-null    float64        \n",
      " 2   Humidity       147 non-null    float64        \n",
      " 3   Pressure       147 non-null    float64        \n",
      " 4   Rainfall       147 non-null    bool           \n",
      " 5   TrackTemp      147 non-null    float64        \n",
      " 6   WindDirection  147 non-null    int64          \n",
      " 7   WindSpeed      147 non-null    float64        \n",
      "dtypes: bool(1), float64(5), int64(1), timedelta64[ns](1)\n",
      "memory usage: 8.3 KB\n"
     ]
    }
   ],
   "source": [
    "session.weather_data.info()"
   ]
  },
  {
   "cell_type": "code",
   "execution_count": 28,
   "id": "b1a6b7aa0bf2a974",
   "metadata": {
    "ExecuteTime": {
     "end_time": "2025-05-27T10:57:04.256866300Z",
     "start_time": "2025-05-27T10:57:04.162032Z"
    }
   },
   "outputs": [
    {
     "data": {
      "text/plain": "                    Time  AirTemp  Humidity  Pressure  Rainfall  TrackTemp  \\\n0 0 days 00:00:05.091000     15.9      67.0     991.8     False       28.1   \n1 0 days 00:01:05.070000     15.9      66.0     991.7     False       27.6   \n2 0 days 00:02:05.094000     15.9      65.0     991.7     False       27.0   \n3 0 days 00:03:05.099000     15.9      66.0     991.8     False       27.0   \n4 0 days 00:04:05.097000     15.9      64.0     991.8     False       31.0   \n\n   WindDirection  WindSpeed  \n0            226        2.2  \n1            268        1.5  \n2            291        1.4  \n3            195        1.1  \n4            225        1.9  ",
      "text/html": "<div>\n<style scoped>\n    .dataframe tbody tr th:only-of-type {\n        vertical-align: middle;\n    }\n\n    .dataframe tbody tr th {\n        vertical-align: top;\n    }\n\n    .dataframe thead th {\n        text-align: right;\n    }\n</style>\n<table border=\"1\" class=\"dataframe\">\n  <thead>\n    <tr style=\"text-align: right;\">\n      <th></th>\n      <th>Time</th>\n      <th>AirTemp</th>\n      <th>Humidity</th>\n      <th>Pressure</th>\n      <th>Rainfall</th>\n      <th>TrackTemp</th>\n      <th>WindDirection</th>\n      <th>WindSpeed</th>\n    </tr>\n  </thead>\n  <tbody>\n    <tr>\n      <th>0</th>\n      <td>0 days 00:00:05.091000</td>\n      <td>15.9</td>\n      <td>67.0</td>\n      <td>991.8</td>\n      <td>False</td>\n      <td>28.1</td>\n      <td>226</td>\n      <td>2.2</td>\n    </tr>\n    <tr>\n      <th>1</th>\n      <td>0 days 00:01:05.070000</td>\n      <td>15.9</td>\n      <td>66.0</td>\n      <td>991.7</td>\n      <td>False</td>\n      <td>27.6</td>\n      <td>268</td>\n      <td>1.5</td>\n    </tr>\n    <tr>\n      <th>2</th>\n      <td>0 days 00:02:05.094000</td>\n      <td>15.9</td>\n      <td>65.0</td>\n      <td>991.7</td>\n      <td>False</td>\n      <td>27.0</td>\n      <td>291</td>\n      <td>1.4</td>\n    </tr>\n    <tr>\n      <th>3</th>\n      <td>0 days 00:03:05.099000</td>\n      <td>15.9</td>\n      <td>66.0</td>\n      <td>991.8</td>\n      <td>False</td>\n      <td>27.0</td>\n      <td>195</td>\n      <td>1.1</td>\n    </tr>\n    <tr>\n      <th>4</th>\n      <td>0 days 00:04:05.097000</td>\n      <td>15.9</td>\n      <td>64.0</td>\n      <td>991.8</td>\n      <td>False</td>\n      <td>31.0</td>\n      <td>225</td>\n      <td>1.9</td>\n    </tr>\n  </tbody>\n</table>\n</div>"
     },
     "execution_count": 28,
     "metadata": {},
     "output_type": "execute_result"
    }
   ],
   "source": [
    "#check weather data\n",
    "session.weather_data.head()"
   ]
  },
  {
   "cell_type": "code",
   "execution_count": 29,
   "id": "7a0986617567b2d5",
   "metadata": {
    "ExecuteTime": {
     "end_time": "2025-05-27T10:57:04.258895600Z",
     "start_time": "2025-05-27T10:57:04.226767500Z"
    }
   },
   "outputs": [
    {
     "data": {
      "text/plain": "Rainfall\nFalse    96\nTrue     51\nName: count, dtype: int64"
     },
     "execution_count": 29,
     "metadata": {},
     "output_type": "execute_result"
    }
   ],
   "source": [
    "session.weather_data['Rainfall'].value_counts()"
   ]
  },
  {
   "cell_type": "code",
   "execution_count": 30,
   "id": "4cece0b13310fd64",
   "metadata": {
    "ExecuteTime": {
     "end_time": "2025-05-27T10:57:04.386405700Z",
     "start_time": "2025-05-27T10:57:04.256866300Z"
    }
   },
   "outputs": [
    {
     "data": {
      "text/plain": "[(0, 5),\n (0, 6),\n (0, 7),\n (0, 8),\n (0, 9),\n (0, 10),\n (0, 11),\n (0, 12),\n (0, 13),\n (0, 14),\n (0, 15),\n (0, 16),\n (0, 21),\n (0, 22),\n (1, 25),\n (1, 26),\n (1, 27),\n (1, 28),\n (1, 29),\n (1, 30),\n (1, 31),\n (1, 32),\n (1, 33),\n (1, 34),\n (1, 35),\n (1, 36),\n (1, 37),\n (1, 38),\n (1, 39),\n (1, 40),\n (1, 41),\n (1, 42),\n (1, 43),\n (1, 44),\n (1, 45),\n (1, 46),\n (1, 47),\n (1, 48),\n (1, 49),\n (1, 50),\n (1, 51),\n (1, 52),\n (1, 53),\n (1, 54),\n (1, 55),\n (1, 56),\n (1, 57),\n (1, 58),\n (1, 59),\n (2, 8),\n (2, 9)]"
     },
     "execution_count": 30,
     "metadata": {},
     "output_type": "execute_result"
    }
   ],
   "source": [
    "#finding the times with rain from session weather data\n",
    "weather = session.weather_data\n",
    "\n",
    "rain_times = weather.loc[weather[\"Rainfall\"] == True, \"Time\"].apply(\n",
    "    lambda td: (td.components.hours, td.components.minutes)\n",
    ").tolist()\n",
    "rain_times"
   ]
  },
  {
   "cell_type": "code",
   "execution_count": 31,
   "id": "2467a935932484df",
   "metadata": {
    "ExecuteTime": {
     "end_time": "2025-05-27T10:57:04.448256900Z",
     "start_time": "2025-05-27T10:57:04.321480800Z"
    }
   },
   "outputs": [
    {
     "name": "stdout",
     "output_type": "stream",
     "text": [
      "Laps where it rained [np.float64(17.0), np.float64(18.0), np.float64(19.0), np.float64(20.0), np.float64(21.0), np.float64(22.0), np.float64(23.0), np.float64(24.0), np.float64(25.0), np.float64(26.0), np.float64(27.0), np.float64(28.0), np.float64(29.0), np.float64(30.0), np.float64(31.0), np.float64(32.0), np.float64(33.0), np.float64(34.0), np.float64(35.0), np.float64(36.0), np.float64(37.0), np.float64(38.0), np.float64(42.0), np.float64(43.0), np.float64(44.0)]\n"
     ]
    }
   ],
   "source": [
    "#then using this data to find out the laps where it was raining\n",
    "dat = session.laps\n",
    "\n",
    "def is_raining(td):\n",
    "    h = td.components.hours\n",
    "    m = td.components.minutes\n",
    "    return (h, m) in rain_times\n",
    "\n",
    "dat[\"Raining\"] = dat[\"Time\"].apply(is_raining)\n",
    "\n",
    "#check out laps where it was raining (with this method) just for show, this will in code be code for every row (and therefore every driver individually), as not every driver will be on the same lap at the same time\n",
    "rain_laps = sorted(dat[dat[\"Raining\"]][\"LapNumber\"].unique())\n",
    "print(\"Laps where it rained\", rain_laps)"
   ]
  },
  {
   "cell_type": "code",
   "execution_count": 32,
   "id": "3e975cadeaa037a0",
   "metadata": {
    "ExecuteTime": {
     "end_time": "2025-05-27T10:57:04.555667Z",
     "start_time": "2025-05-27T10:57:04.366040800Z"
    }
   },
   "outputs": [
    {
     "name": "stdout",
     "output_type": "stream",
     "text": [
      "Laps where the track was wet: [np.float64(20.0), np.float64(21.0), np.float64(22.0), np.float64(23.0), np.float64(24.0), np.float64(25.0), np.float64(26.0), np.float64(27.0), np.float64(28.0), np.float64(29.0), np.float64(30.0), np.float64(31.0), np.float64(32.0), np.float64(33.0), np.float64(34.0), np.float64(35.0), np.float64(36.0), np.float64(37.0), np.float64(38.0), np.float64(39.0)]\n"
     ]
    }
   ],
   "source": [
    "#alternative to find out the laps where it was \"raining\" (or \"the track was wet\") as every lap where at least one driver was on intermediate or wet tyres. but method with official weather data from above shall be used as its more accurate\n",
    "dat = session.laps\n",
    "rain_tires = ['INTERMEDIATE', 'WET']\n",
    "\n",
    "#Filter rows where tire is among these\n",
    "rain_laps = sorted(dat[dat['Compound'].isin(rain_tires)]['LapNumber'].unique())\n",
    "print(\"Laps where the track was wet:\", rain_laps)\n",
    "\n",
    "#add this information into every lap in the dataframe\n",
    "dat['Wet_Track'] = dat['LapNumber'].isin(rain_laps)"
   ]
  },
  {
   "cell_type": "code",
   "execution_count": 33,
   "id": "1d8f5ae7057683ab",
   "metadata": {
    "ExecuteTime": {
     "end_time": "2025-05-27T10:57:04.646165Z",
     "start_time": "2025-05-27T10:57:04.398786500Z"
    }
   },
   "outputs": [
    {
     "ename": "ModuleNotFoundError",
     "evalue": "No module named 'seaborn'",
     "output_type": "error",
     "traceback": [
      "\u001B[1;31m---------------------------------------------------------------------------\u001B[0m",
      "\u001B[1;31mModuleNotFoundError\u001B[0m                       Traceback (most recent call last)",
      "Cell \u001B[1;32mIn[33], line 3\u001B[0m\n\u001B[0;32m      1\u001B[0m \u001B[38;5;66;03m#experiment with and build laps scatterplot for use in our project\u001B[39;00m\n\u001B[0;32m      2\u001B[0m \u001B[38;5;66;03m#scatterplot driver laptimes\u001B[39;00m\n\u001B[1;32m----> 3\u001B[0m \u001B[38;5;28;01mimport\u001B[39;00m\u001B[38;5;250m \u001B[39m\u001B[38;5;21;01mseaborn\u001B[39;00m\u001B[38;5;250m \u001B[39m\u001B[38;5;28;01mas\u001B[39;00m\u001B[38;5;250m \u001B[39m\u001B[38;5;21;01msns\u001B[39;00m\n\u001B[0;32m      4\u001B[0m \u001B[38;5;28;01mfrom\u001B[39;00m\u001B[38;5;250m \u001B[39m\u001B[38;5;21;01mmatplotlib\u001B[39;00m\u001B[38;5;250m \u001B[39m\u001B[38;5;28;01mimport\u001B[39;00m pyplot \u001B[38;5;28;01mas\u001B[39;00m plt\n\u001B[0;32m      5\u001B[0m \u001B[38;5;28;01mimport\u001B[39;00m\u001B[38;5;250m \u001B[39m\u001B[38;5;21;01mfastf1\u001B[39;00m\u001B[38;5;21;01m.\u001B[39;00m\u001B[38;5;21;01mplotting\u001B[39;00m\n",
      "\u001B[1;31mModuleNotFoundError\u001B[0m: No module named 'seaborn'"
     ]
    }
   ],
   "source": [
    "#experiment with and build laps scatterplot for use in our project\n",
    "#scatterplot driver laptimes\n",
    "import seaborn as sns\n",
    "from matplotlib import pyplot as plt\n",
    "import fastf1.plotting\n",
    "\n",
    "drivers_abbr = [\"HAM\"]\n",
    "\n",
    "#plotting setup as given in documentation\n",
    "fastf1.plotting.setup_mpl(mpl_timedelta_support=True, misc_mpl_mods=False,\n",
    "                          color_scheme='fastf1')\n",
    "\n",
    "#for exploration purposes, we will adapt the documentations example code and not filter out the slow laps\n",
    "driver_laps = dat.pick_drivers(drivers_abbr).reset_index(drop=True)\n",
    "\n",
    "#Make the scattterplot using lap number as x-axis and lap time as y-axis. Marker colors correspond to the compounds used. Note: as LapTime is represented by timedelta, calling setup_mpl earlier is required.\n",
    "\n",
    "fig, ax = plt.subplots(figsize=(8, 8))\n",
    "\n",
    "sns.scatterplot(data=driver_laps, x=\"LapNumber\", y=\"LapTime\", ax=ax, hue=\"Compound\",\n",
    "                palette=fastf1.plotting.get_compound_mapping(session=session),\n",
    "                s=100, linewidth=0, legend='auto')\n",
    "\n",
    "#Make the plot more aesthetic.\n",
    "ax.set_xlabel(\"Lap Number\")\n",
    "ax.set_ylabel(\"Lap Time\")\n",
    "\n",
    "# The y-axis increases from bottom to top by default\n",
    "# Since we are plotting time, it makes sense to invert the axis\n",
    "ax.invert_yaxis()\n",
    "fig.suptitle(\"2024 British Grand Prix\")\n",
    "\n",
    "# Turn on major grid lines\n",
    "ax.grid(color='w', which='major', axis='both', alpha=0.3)\n",
    "sns.despine(left=True, bottom=True)\n",
    "\n",
    "plt.tight_layout()\n",
    "plt.show()"
   ]
  },
  {
   "cell_type": "code",
   "execution_count": null,
   "id": "947dad69c440c81b",
   "metadata": {
    "ExecuteTime": {
     "start_time": "2025-05-27T10:57:04.623114Z"
    }
   },
   "outputs": [],
   "source": [
    "#check what driver_laps looks like\n",
    "driver_laps.head()"
   ]
  },
  {
   "cell_type": "code",
   "execution_count": null,
   "id": "3f8e0ec6a1fa2e82",
   "metadata": {
    "ExecuteTime": {
     "start_time": "2025-05-27T10:57:04.626165300Z"
    }
   },
   "outputs": [],
   "source": [
    "driver_laps.columns"
   ]
  },
  {
   "cell_type": "code",
   "execution_count": null,
   "id": "56a2a21d3504ae27",
   "metadata": {
    "ExecuteTime": {
     "start_time": "2025-05-27T10:57:04.627177100Z"
    }
   },
   "outputs": [],
   "source": [
    "#we have seen the many warnings are generated by the fastf1 package, can if needed be suppressed with:\n",
    "import warnings\n",
    "warnings.filterwarnings('ignore')"
   ]
  }
 ],
 "metadata": {
  "kernelspec": {
   "display_name": "Python 3 (ipykernel)",
   "language": "python",
   "name": "python3"
  },
  "language_info": {
   "codemirror_mode": {
    "name": "ipython",
    "version": 3
   },
   "file_extension": ".py",
   "mimetype": "text/x-python",
   "name": "python",
   "nbconvert_exporter": "python",
   "pygments_lexer": "ipython3",
   "version": "3.11.4"
  }
 },
 "nbformat": 4,
 "nbformat_minor": 5
}
